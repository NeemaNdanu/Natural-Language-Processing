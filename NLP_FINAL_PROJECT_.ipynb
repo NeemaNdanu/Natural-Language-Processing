{
  "nbformat": 4,
  "nbformat_minor": 0,
  "metadata": {
    "colab": {
      "provenance": [],
      "gpuType": "T4",
      "include_colab_link": true
    },
    "kernelspec": {
      "name": "python3",
      "display_name": "Python 3"
    },
    "language_info": {
      "name": "python"
    },
    "accelerator": "GPU"
  },
  "cells": [
    {
      "cell_type": "markdown",
      "metadata": {
        "id": "view-in-github",
        "colab_type": "text"
      },
      "source": [
        "<a href=\"https://colab.research.google.com/github/NeemaNdanu/Natural-language-processing/blob/main/NLP_FINAL_PROJECT_.ipynb\" target=\"_parent\"><img src=\"https://colab.research.google.com/assets/colab-badge.svg\" alt=\"Open In Colab\"/></a>"
      ]
    },
    {
      "cell_type": "markdown",
      "metadata": {
        "id": "1mhhdacoFZ7Z"
      },
      "source": [
        "###**4. Text Classification in African Languages**\n",
        "\n",
        "**o Objective:** Develop a model to classify text documents in an African language (e.g., news articles, social media posts) by topic (e.g., sports, politics, entertainment).\n",
        "\n",
        "**o Tasks:**Use or collect a labeled dataset, preprocess it, and train a classification model.\n",
        "\n",
        "**o Expected Outcome:** A classifier that can categorize texts into predefined topics with a reasonable accuracy."
      ]
    },
    {
      "cell_type": "markdown",
      "source": [
        "**Information About the Dataset**\n",
        "\n",
        "Due to the limited availability of datasets for the Kamba language, this dataset was created from scratch. To ensure the dataset's accuracy, I consulted with an expert to review the data. After receiving confirmation that the dataset was appropriate, I proceeded with its use.\n",
        "\n",
        "The dataset consists of around 600 sentences, with 150 sentences in Kamba and 150 corresponding translated sentences in English. It also includes 5 labels:\n",
        "\n",
        "- **Business**\n",
        "- **Biblical**\n",
        "- **Political**\n",
        "- **Sports**\n",
        "- **Academic**\n",
        "\n",
        "This dataset is structured to facilitate the classification of Kamba text into these five categories.\n",
        "\n",
        "I decided to take on this project, focusing on the Kamba language, for several reasons:\n",
        "\n",
        "- **Support for Rural Businesses**: The goal is to help businesses in Kamba-speaking areas, like Machakos and Makueni, use text classification models to automate customer support. This would enable businesses to better understand and respond to Kamba-speaking customers, improving service efficiency.\n",
        "  \n",
        "- **Educational Support for Children**: The project also aims to assist children in rural areas. By leveraging text classification models, universities and schools in these regions can develop educational tools, such as automated quizzes, content categorization, or translation aids, to better support students' learning."
      ],
      "metadata": {
        "id": "Wc7oyXfKIScW"
      }
    },
    {
      "cell_type": "markdown",
      "source": [
        "**IMPORT AND SETUP**"
      ],
      "metadata": {
        "id": "UHGGnae1D7Ul"
      }
    },
    {
      "source": [
        "# Step 1: Clone the GloVe repository\n",
        "!git clone https://github.com/stanfordnlp/glove\n",
        "%cd glove\n",
        "\n",
        "# Step 2: Install necessary dependencies\n",
        "!apt-get install -y make g++ wget\n",
        "\n",
        "# Step 3: Compile the code\n",
        "!make\n",
        "\n",
        "# Step 4: Prepare the Kamba dataset\n",
        "import pandas as pd\n",
        "\n",
        "# Load the Excel dataset\n",
        "data = pd.read_excel('/content/KAMBA DATASET.xlsx')\n",
        "\n",
        "# Save the text data to a file (for GloVe input)\n",
        "with open('/content/kamba_text.txt', 'w') as f:\n",
        "    for text in data['TEXT']:\n",
        "        f.write(str(text) + '\\n')\n",
        "\n",
        "# Move the file into the GloVe directory\n",
        "!cp /content/kamba_text.txt .\n",
        "\n",
        "# Step 5: Train GloVe on the Kamba corpus\n",
        "!./demo.sh\n"
      ],
      "cell_type": "code",
      "metadata": {
        "id": "bd52gidFu8cm",
        "colab": {
          "base_uri": "https://localhost:8080/"
        },
        "outputId": "66d1af11-0342-449d-a759-8d3efe43faef"
      },
      "execution_count": null,
      "outputs": [
        {
          "output_type": "stream",
          "name": "stdout",
          "text": [
            "fatal: destination path 'glove' already exists and is not an empty directory.\n",
            "/content/glove\n",
            "Reading package lists... Done\n",
            "Building dependency tree... Done\n",
            "Reading state information... Done\n",
            "g++ is already the newest version (4:11.2.0-1ubuntu1).\n",
            "make is already the newest version (4.3-4.1build1).\n",
            "wget is already the newest version (1.21.2-2ubuntu1.1).\n",
            "0 upgraded, 0 newly installed, 0 to remove and 49 not upgraded.\n",
            "mkdir -p build\n",
            "mkdir -p build\n",
            "\n",
            "$ build/vocab_count -min-count 5 -verbose 2 < text8 > vocab.txt\n",
            "BUILDING VOCABULARY\n",
            "Processed 0 tokens.\u001b[11G100000 tokens.\u001b[11G200000 tokens.\u001b[11G300000 tokens.\u001b[11G400000 tokens.\u001b[11G500000 tokens.\u001b[11G600000 tokens.\u001b[11G700000 tokens.\u001b[11G800000 tokens.\u001b[11G900000 tokens.\u001b[11G1000000 tokens.\u001b[11G1100000 tokens.\u001b[11G1200000 tokens.\u001b[11G1300000 tokens.\u001b[11G1400000 tokens.\u001b[11G1500000 tokens.\u001b[11G1600000 tokens.\u001b[11G1700000 tokens.\u001b[11G1800000 tokens.\u001b[11G1900000 tokens.\u001b[11G2000000 tokens.\u001b[11G2100000 tokens.\u001b[11G2200000 tokens.\u001b[11G2300000 tokens.\u001b[11G2400000 tokens.\u001b[11G2500000 tokens.\u001b[11G2600000 tokens.\u001b[11G2700000 tokens.\u001b[11G2800000 tokens.\u001b[11G2900000 tokens.\u001b[11G3000000 tokens.\u001b[11G3100000 tokens.\u001b[11G3200000 tokens.\u001b[11G3300000 tokens.\u001b[11G3400000 tokens.\u001b[11G3500000 tokens.\u001b[11G3600000 tokens.\u001b[11G3700000 tokens.\u001b[11G3800000 tokens.\u001b[11G3900000 tokens.\u001b[11G4000000 tokens.\u001b[11G4100000 tokens.\u001b[11G4200000 tokens.\u001b[11G4300000 tokens.\u001b[11G4400000 tokens.\u001b[11G4500000 tokens.\u001b[11G4600000 tokens.\u001b[11G4700000 tokens.\u001b[11G4800000 tokens.\u001b[11G4900000 tokens.\u001b[11G5000000 tokens.\u001b[11G5100000 tokens.\u001b[11G5200000 tokens.\u001b[11G5300000 tokens.\u001b[11G5400000 tokens.\u001b[11G5500000 tokens.\u001b[11G5600000 tokens.\u001b[11G5700000 tokens.\u001b[11G5800000 tokens.\u001b[11G5900000 tokens.\u001b[11G6000000 tokens.\u001b[11G6100000 tokens.\u001b[11G6200000 tokens.\u001b[11G6300000 tokens.\u001b[11G6400000 tokens.\u001b[11G6500000 tokens.\u001b[11G6600000 tokens.\u001b[11G6700000 tokens.\u001b[11G6800000 tokens.\u001b[11G6900000 tokens.\u001b[11G7000000 tokens.\u001b[11G7100000 tokens.\u001b[11G7200000 tokens.\u001b[11G7300000 tokens.\u001b[11G7400000 tokens.\u001b[11G7500000 tokens.\u001b[11G7600000 tokens.\u001b[11G7700000 tokens.\u001b[11G7800000 tokens.\u001b[11G7900000 tokens.\u001b[11G8000000 tokens.\u001b[11G8100000 tokens.\u001b[11G8200000 tokens.\u001b[11G8300000 tokens.\u001b[11G8400000 tokens.\u001b[11G8500000 tokens.\u001b[11G8600000 tokens.\u001b[11G8700000 tokens.\u001b[11G8800000 tokens.\u001b[11G8900000 tokens.\u001b[11G9000000 tokens.\u001b[11G9100000 tokens.\u001b[11G9200000 tokens.\u001b[11G9300000 tokens.\u001b[11G9400000 tokens.\u001b[11G9500000 tokens.\u001b[11G9600000 tokens.\u001b[11G9700000 tokens.\u001b[11G9800000 tokens.\u001b[11G9900000 tokens.\u001b[11G10000000 tokens.\u001b[11G10100000 tokens.\u001b[11G10200000 tokens.\u001b[11G10300000 tokens.\u001b[11G10400000 tokens.\u001b[11G10500000 tokens.\u001b[11G10600000 tokens.\u001b[11G10700000 tokens.\u001b[11G10800000 tokens.\u001b[11G10900000 tokens.\u001b[11G11000000 tokens.\u001b[11G11100000 tokens.\u001b[11G11200000 tokens.\u001b[11G11300000 tokens.\u001b[11G11400000 tokens.\u001b[11G11500000 tokens.\u001b[11G11600000 tokens.\u001b[11G11700000 tokens.\u001b[11G11800000 tokens.\u001b[11G11900000 tokens.\u001b[11G12000000 tokens.\u001b[11G12100000 tokens.\u001b[11G12200000 tokens.\u001b[11G12300000 tokens.\u001b[11G12400000 tokens.\u001b[11G12500000 tokens.\u001b[11G12600000 tokens.\u001b[11G12700000 tokens.\u001b[11G12800000 tokens.\u001b[11G12900000 tokens.\u001b[11G13000000 tokens.\u001b[11G13100000 tokens.\u001b[11G13200000 tokens.\u001b[11G13300000 tokens.\u001b[11G13400000 tokens.\u001b[11G13500000 tokens.\u001b[11G13600000 tokens.\u001b[11G13700000 tokens.\u001b[11G13800000 tokens.\u001b[11G13900000 tokens.\u001b[11G14000000 tokens.\u001b[11G14100000 tokens.\u001b[11G14200000 tokens.\u001b[11G14300000 tokens.\u001b[11G14400000 tokens.\u001b[11G14500000 tokens.\u001b[11G14600000 tokens.\u001b[11G14700000 tokens.\u001b[11G14800000 tokens.\u001b[11G14900000 tokens.\u001b[11G15000000 tokens.\u001b[11G15100000 tokens.\u001b[11G15200000 tokens.\u001b[11G15300000 tokens.\u001b[11G15400000 tokens.\u001b[11G15500000 tokens.\u001b[11G15600000 tokens.\u001b[11G15700000 tokens.\u001b[11G15800000 tokens.\u001b[11G15900000 tokens.\u001b[11G16000000 tokens.\u001b[11G16100000 tokens.\u001b[11G16200000 tokens.\u001b[11G16300000 tokens.\u001b[11G16400000 tokens.\u001b[11G16500000 tokens.\u001b[11G16600000 tokens.\u001b[11G16700000 tokens.\u001b[11G16800000 tokens.\u001b[11G16900000 tokens.\u001b[11G17000000 tokens.\u001b[0GProcessed 17005207 tokens.\n",
            "Counted 253854 unique words.\n",
            "Truncating vocabulary at min count 5.\n",
            "Using vocabulary of size 71290.\n",
            "\n",
            "$ build/cooccur -memory 4.0 -vocab-file vocab.txt -verbose 2 -window-size 15 < text8 > cooccurrence.bin\n",
            "COUNTING COOCCURRENCES\n",
            "window size: 15\n",
            "context: symmetric\n",
            "max product: 13752509\n",
            "overflow length: 38028356\n",
            "Reading vocab from file \"vocab.txt\"...loaded 71290 words.\n",
            "Building lookup table...table contains 94990279 elements.\n",
            "Processing token: 0\u001b[19G100000\u001b[19G200000\u001b[19G300000\u001b[19G400000\u001b[19G500000\u001b[19G600000\u001b[19G700000\u001b[19G800000\u001b[19G900000\u001b[19G1000000\u001b[19G1100000\u001b[19G1200000\u001b[19G1300000\u001b[19G1400000\u001b[19G1500000\u001b[19G1600000\u001b[19G1700000\u001b[19G1800000\u001b[19G1900000\u001b[19G2000000\u001b[19G2100000\u001b[19G2200000\u001b[19G2300000\u001b[19G2400000\u001b[19G2500000\u001b[19G2600000\u001b[19G2700000\u001b[19G2800000\u001b[19G2900000\u001b[19G3000000\u001b[19G3100000\u001b[19G3200000\u001b[19G3300000\u001b[19G3400000\u001b[19G3500000\u001b[19G3600000\u001b[19G3700000\u001b[19G3800000\u001b[19G3900000\u001b[19G4000000\u001b[19G4100000\u001b[19G4200000\u001b[19G4300000\u001b[19G4400000\u001b[19G4500000\u001b[19G4600000\u001b[19G4700000\u001b[19G4800000\u001b[19G4900000\u001b[19G5000000\u001b[19G5100000\u001b[19G5200000\u001b[19G5300000\u001b[19G5400000\u001b[19G5500000\u001b[19G5600000\u001b[19G5700000\u001b[19G5800000\u001b[19G5900000\u001b[19G6000000\u001b[19G6100000\u001b[19G6200000\u001b[19G6300000\u001b[19G6400000\u001b[19G6500000\u001b[19G6600000\u001b[19G6700000\u001b[19G6800000\u001b[19G6900000\u001b[19G7000000\u001b[19G7100000\u001b[19G7200000\u001b[19G7300000\u001b[19G7400000\u001b[19G7500000\u001b[19G7600000\u001b[19G7700000\u001b[19G7800000\u001b[19G7900000\u001b[19G8000000\u001b[19G8100000\u001b[19G8200000\u001b[19G8300000\u001b[19G8400000\u001b[19G8500000\u001b[19G8600000\u001b[19G8700000\u001b[19G8800000\u001b[19G8900000\u001b[19G9000000\u001b[19G9100000\u001b[19G9200000\u001b[19G9300000\u001b[19G9400000\u001b[19G9500000\u001b[19G9600000\u001b[19G9700000\u001b[19G9800000\u001b[19G9900000\u001b[19G10000000\u001b[19G10100000\u001b[19G10200000\u001b[19G10300000\u001b[19G10400000\u001b[19G10500000\u001b[19G10600000\u001b[19G10700000\u001b[19G10800000\u001b[19G10900000\u001b[19G11000000\u001b[19G11100000\u001b[19G11200000\u001b[19G11300000\u001b[19G11400000\u001b[19G11500000\u001b[19G11600000\u001b[19G11700000\u001b[19G11800000\u001b[19G11900000\u001b[19G12000000\u001b[19G12100000\u001b[19G12200000\u001b[19G12300000\u001b[19G12400000\u001b[19G12500000\u001b[19G12600000\u001b[19G12700000\u001b[19G12800000\u001b[19G12900000\u001b[19G13000000\u001b[19G13100000\u001b[19G13200000\u001b[19G13300000\u001b[19G13400000\u001b[19G13500000\u001b[19G13600000\u001b[19G13700000\u001b[19G13800000\u001b[19G13900000\u001b[19G14000000\u001b[19G14100000\u001b[19G14200000\u001b[19G14300000\u001b[19G14400000\u001b[19G14500000\u001b[19G14600000\u001b[19G14700000\u001b[19G14800000\u001b[19G14900000\u001b[19G15000000\u001b[19G15100000\u001b[19G15200000\u001b[19G15300000\u001b[19G15400000\u001b[19G15500000\u001b[19G15600000\u001b[19G15700000\u001b[19G15800000\u001b[19G15900000\u001b[19G16000000\u001b[19G16100000\u001b[19G16200000\u001b[19G16300000\u001b[19G16400000\u001b[19G16500000\u001b[19G16600000\u001b[19G16700000\u001b[19G16800000\u001b[19G16900000\u001b[19G17000000\u001b[0GProcessed 17005207 tokens.\n",
            "Writing cooccurrences to disk.........2 files in total.\n",
            "Merging cooccurrence files: processed 0 lines.\u001b[39G100000 lines.\u001b[39G200000 lines.\u001b[39G300000 lines.\u001b[39G400000 lines.\u001b[39G500000 lines.\u001b[39G600000 lines.\u001b[39G700000 lines.\u001b[39G800000 lines.\u001b[39G900000 lines.\u001b[39G1000000 lines.\u001b[39G1100000 lines.\u001b[39G1200000 lines.\u001b[39G1300000 lines.\u001b[39G1400000 lines.\u001b[39G1500000 lines.\u001b[39G1600000 lines.\u001b[39G1700000 lines.\u001b[39G1800000 lines.\u001b[39G1900000 lines.\u001b[39G2000000 lines.\u001b[39G2100000 lines.\u001b[39G2200000 lines.\u001b[39G2300000 lines.\u001b[39G2400000 lines.\u001b[39G2500000 lines.\u001b[39G2600000 lines.\u001b[39G2700000 lines.\u001b[39G2800000 lines.\u001b[39G2900000 lines.\u001b[39G3000000 lines.\u001b[39G3100000 lines.\u001b[39G3200000 lines.\u001b[39G3300000 lines.\u001b[39G3400000 lines.\u001b[39G3500000 lines.\u001b[39G3600000 lines.\u001b[39G3700000 lines.\u001b[39G3800000 lines.\u001b[39G3900000 lines.\u001b[39G4000000 lines.\u001b[39G4100000 lines.\u001b[39G4200000 lines.\u001b[39G4300000 lines.\u001b[39G4400000 lines.\u001b[39G4500000 lines.\u001b[39G4600000 lines.\u001b[39G4700000 lines.\u001b[39G4800000 lines.\u001b[39G4900000 lines.\u001b[39G5000000 lines.\u001b[39G5100000 lines.\u001b[39G5200000 lines.\u001b[39G5300000 lines.\u001b[39G5400000 lines.\u001b[39G5500000 lines.\u001b[39G5600000 lines.\u001b[39G5700000 lines.\u001b[39G5800000 lines.\u001b[39G5900000 lines.\u001b[39G6000000 lines.\u001b[39G6100000 lines.\u001b[39G6200000 lines.\u001b[39G6300000 lines.\u001b[39G6400000 lines.\u001b[39G6500000 lines.\u001b[39G6600000 lines.\u001b[39G6700000 lines.\u001b[39G6800000 lines.\u001b[39G6900000 lines.\u001b[39G7000000 lines.\u001b[39G7100000 lines.\u001b[39G7200000 lines.\u001b[39G7300000 lines.\u001b[39G7400000 lines.\u001b[39G7500000 lines.\u001b[39G7600000 lines.\u001b[39G7700000 lines.\u001b[39G7800000 lines.\u001b[39G7900000 lines.\u001b[39G8000000 lines.\u001b[39G8100000 lines.\u001b[39G8200000 lines.\u001b[39G8300000 lines.\u001b[39G8400000 lines.\u001b[39G8500000 lines.\u001b[39G8600000 lines.\u001b[39G8700000 lines.\u001b[39G8800000 lines.\u001b[39G8900000 lines.\u001b[39G9000000 lines.\u001b[39G9100000 lines.\u001b[39G9200000 lines.\u001b[39G9300000 lines.\u001b[39G9400000 lines.\u001b[39G9500000 lines.\u001b[39G9600000 lines.\u001b[39G9700000 lines.\u001b[39G9800000 lines.\u001b[39G9900000 lines.\u001b[39G10000000 lines.\u001b[39G10100000 lines.\u001b[39G10200000 lines.\u001b[39G10300000 lines.\u001b[39G10400000 lines.\u001b[39G10500000 lines.\u001b[39G10600000 lines.\u001b[39G10700000 lines.\u001b[39G10800000 lines.\u001b[39G10900000 lines.\u001b[39G11000000 lines.\u001b[39G11100000 lines.\u001b[39G11200000 lines.\u001b[39G11300000 lines.\u001b[39G11400000 lines.\u001b[39G11500000 lines.\u001b[39G11600000 lines.\u001b[39G11700000 lines.\u001b[39G11800000 lines.\u001b[39G11900000 lines.\u001b[39G12000000 lines.\u001b[39G12100000 lines.\u001b[39G12200000 lines.\u001b[39G12300000 lines.\u001b[39G12400000 lines.\u001b[39G12500000 lines.\u001b[39G12600000 lines.\u001b[39G12700000 lines.\u001b[39G12800000 lines.\u001b[39G12900000 lines.\u001b[39G13000000 lines.\u001b[39G13100000 lines.\u001b[39G13200000 lines.\u001b[39G13300000 lines.\u001b[39G13400000 lines.\u001b[39G13500000 lines.\u001b[39G13600000 lines.\u001b[39G13700000 lines.\u001b[39G13800000 lines.\u001b[39G13900000 lines.\u001b[39G14000000 lines.\u001b[39G14100000 lines.\u001b[39G14200000 lines.\u001b[39G14300000 lines.\u001b[39G14400000 lines.\u001b[39G14500000 lines.\u001b[39G14600000 lines.\u001b[39G14700000 lines.\u001b[39G14800000 lines.\u001b[39G14900000 lines.\u001b[39G15000000 lines.\u001b[39G15100000 lines.\u001b[39G15200000 lines.\u001b[39G15300000 lines.\u001b[39G15400000 lines.\u001b[39G15500000 lines.\u001b[39G15600000 lines.\u001b[39G15700000 lines.\u001b[39G15800000 lines.\u001b[39G15900000 lines.\u001b[39G16000000 lines.\u001b[39G16100000 lines.\u001b[39G16200000 lines.\u001b[39G16300000 lines.\u001b[39G16400000 lines.\u001b[39G16500000 lines.\u001b[39G16600000 lines.\u001b[39G16700000 lines.\u001b[39G16800000 lines.\u001b[39G16900000 lines.\u001b[39G17000000 lines.\u001b[39G17100000 lines.\u001b[39G17200000 lines.\u001b[39G17300000 lines.\u001b[39G17400000 lines.\u001b[39G17500000 lines.\u001b[39G17600000 lines.\u001b[39G17700000 lines.\u001b[39G17800000 lines.\u001b[39G17900000 lines.\u001b[39G18000000 lines.\u001b[39G18100000 lines.\u001b[39G18200000 lines.\u001b[39G18300000 lines.\u001b[39G18400000 lines.\u001b[39G18500000 lines.\u001b[39G18600000 lines.\u001b[39G18700000 lines.\u001b[39G18800000 lines.\u001b[39G18900000 lines.\u001b[39G19000000 lines.\u001b[39G19100000 lines.\u001b[39G19200000 lines.\u001b[39G19300000 lines.\u001b[39G19400000 lines.\u001b[39G19500000 lines.\u001b[39G19600000 lines.\u001b[39G19700000 lines.\u001b[39G19800000 lines.\u001b[39G19900000 lines.\u001b[39G20000000 lines.\u001b[39G20100000 lines.\u001b[39G20200000 lines.\u001b[39G20300000 lines.\u001b[39G20400000 lines.\u001b[39G20500000 lines.\u001b[39G20600000 lines.\u001b[39G20700000 lines.\u001b[39G20800000 lines.\u001b[39G20900000 lines.\u001b[39G21000000 lines.\u001b[39G21100000 lines.\u001b[39G21200000 lines.\u001b[39G21300000 lines.\u001b[39G21400000 lines.\u001b[39G21500000 lines.\u001b[39G21600000 lines.\u001b[39G21700000 lines.\u001b[39G21800000 lines.\u001b[39G21900000 lines.\u001b[39G22000000 lines.\u001b[39G22100000 lines.\u001b[39G22200000 lines.\u001b[39G22300000 lines.\u001b[39G22400000 lines.\u001b[39G22500000 lines.\u001b[39G22600000 lines.\u001b[39G22700000 lines.\u001b[39G22800000 lines.\u001b[39G22900000 lines.\u001b[39G23000000 lines.\u001b[39G23100000 lines.\u001b[39G23200000 lines.\u001b[39G23300000 lines.\u001b[39G23400000 lines.\u001b[39G23500000 lines.\u001b[39G23600000 lines.\u001b[39G23700000 lines.\u001b[39G23800000 lines.\u001b[39G23900000 lines.\u001b[39G24000000 lines.\u001b[39G24100000 lines.\u001b[39G24200000 lines.\u001b[39G24300000 lines.\u001b[39G24400000 lines.\u001b[39G24500000 lines.\u001b[39G24600000 lines.\u001b[39G24700000 lines.\u001b[39G24800000 lines.\u001b[39G24900000 lines.\u001b[39G25000000 lines.\u001b[39G25100000 lines.\u001b[39G25200000 lines.\u001b[39G25300000 lines.\u001b[39G25400000 lines.\u001b[39G25500000 lines.\u001b[39G25600000 lines.\u001b[39G25700000 lines.\u001b[39G25800000 lines.\u001b[39G25900000 lines.\u001b[39G26000000 lines.\u001b[39G26100000 lines.\u001b[39G26200000 lines.\u001b[39G26300000 lines.\u001b[39G26400000 lines.\u001b[39G26500000 lines.\u001b[39G26600000 lines.\u001b[39G26700000 lines.\u001b[39G26800000 lines.\u001b[39G26900000 lines.\u001b[39G27000000 lines.\u001b[39G27100000 lines.\u001b[39G27200000 lines.\u001b[39G27300000 lines.\u001b[39G27400000 lines.\u001b[39G27500000 lines.\u001b[39G27600000 lines.\u001b[39G27700000 lines.\u001b[39G27800000 lines.\u001b[39G27900000 lines.\u001b[39G28000000 lines.\u001b[39G28100000 lines.\u001b[39G28200000 lines.\u001b[39G28300000 lines.\u001b[39G28400000 lines.\u001b[39G28500000 lines.\u001b[39G28600000 lines.\u001b[39G28700000 lines.\u001b[39G28800000 lines.\u001b[39G28900000 lines.\u001b[39G29000000 lines.\u001b[39G29100000 lines.\u001b[39G29200000 lines.\u001b[39G29300000 lines.\u001b[39G29400000 lines.\u001b[39G29500000 lines.\u001b[39G29600000 lines.\u001b[39G29700000 lines.\u001b[39G29800000 lines.\u001b[39G29900000 lines.\u001b[39G30000000 lines.\u001b[39G30100000 lines.\u001b[39G30200000 lines.\u001b[39G30300000 lines.\u001b[39G30400000 lines.\u001b[39G30500000 lines.\u001b[39G30600000 lines.\u001b[39G30700000 lines.\u001b[39G30800000 lines.\u001b[39G30900000 lines.\u001b[39G31000000 lines.\u001b[39G31100000 lines.\u001b[39G31200000 lines.\u001b[39G31300000 lines.\u001b[39G31400000 lines.\u001b[39G31500000 lines.\u001b[39G31600000 lines.\u001b[39G31700000 lines.\u001b[39G31800000 lines.\u001b[39G31900000 lines.\u001b[39G32000000 lines.\u001b[39G32100000 lines.\u001b[39G32200000 lines.\u001b[39G32300000 lines.\u001b[39G32400000 lines.\u001b[39G32500000 lines.\u001b[39G32600000 lines.\u001b[39G32700000 lines.\u001b[39G32800000 lines.\u001b[39G32900000 lines.\u001b[39G33000000 lines.\u001b[39G33100000 lines.\u001b[39G33200000 lines.\u001b[39G33300000 lines.\u001b[39G33400000 lines.\u001b[39G33500000 lines.\u001b[39G33600000 lines.\u001b[39G33700000 lines.\u001b[39G33800000 lines.\u001b[39G33900000 lines.\u001b[39G34000000 lines.\u001b[39G34100000 lines.\u001b[39G34200000 lines.\u001b[39G34300000 lines.\u001b[39G34400000 lines.\u001b[39G34500000 lines.\u001b[39G34600000 lines.\u001b[39G34700000 lines.\u001b[39G34800000 lines.\u001b[39G34900000 lines.\u001b[39G35000000 lines.\u001b[39G35100000 lines.\u001b[39G35200000 lines.\u001b[39G35300000 lines.\u001b[39G35400000 lines.\u001b[39G35500000 lines.\u001b[39G35600000 lines.\u001b[39G35700000 lines.\u001b[39G35800000 lines.\u001b[39G35900000 lines.\u001b[39G36000000 lines.\u001b[39G36100000 lines.\u001b[39G36200000 lines.\u001b[39G36300000 lines.\u001b[39G36400000 lines.\u001b[39G36500000 lines.\u001b[39G36600000 lines.\u001b[39G36700000 lines.\u001b[39G36800000 lines.\u001b[39G36900000 lines.\u001b[39G37000000 lines.\u001b[39G37100000 lines.\u001b[39G37200000 lines.\u001b[39G37300000 lines.\u001b[39G37400000 lines.\u001b[39G37500000 lines.\u001b[39G37600000 lines.\u001b[39G37700000 lines.\u001b[39G37800000 lines.\u001b[39G37900000 lines.\u001b[39G38000000 lines.\u001b[39G38100000 lines.\u001b[39G38200000 lines.\u001b[39G38300000 lines.\u001b[39G38400000 lines.\u001b[39G38500000 lines.\u001b[39G38600000 lines.\u001b[39G38700000 lines.\u001b[39G38800000 lines.\u001b[39G38900000 lines.\u001b[39G39000000 lines.\u001b[39G39100000 lines.\u001b[39G39200000 lines.\u001b[39G39300000 lines.\u001b[39G39400000 lines.\u001b[39G39500000 lines.\u001b[39G39600000 lines.\u001b[39G39700000 lines.\u001b[39G39800000 lines.\u001b[39G39900000 lines.\u001b[39G40000000 lines.\u001b[39G40100000 lines.\u001b[39G40200000 lines.\u001b[39G40300000 lines.\u001b[39G40400000 lines.\u001b[39G40500000 lines.\u001b[39G40600000 lines.\u001b[39G40700000 lines.\u001b[39G40800000 lines.\u001b[39G40900000 lines.\u001b[39G41000000 lines.\u001b[39G41100000 lines.\u001b[39G41200000 lines.\u001b[39G41300000 lines.\u001b[39G41400000 lines.\u001b[39G41500000 lines.\u001b[39G41600000 lines.\u001b[39G41700000 lines.\u001b[39G41800000 lines.\u001b[39G41900000 lines.\u001b[39G42000000 lines.\u001b[39G42100000 lines.\u001b[39G42200000 lines.\u001b[39G42300000 lines.\u001b[39G42400000 lines.\u001b[39G42500000 lines.\u001b[39G42600000 lines.\u001b[39G42700000 lines.\u001b[39G42800000 lines.\u001b[39G42900000 lines.\u001b[39G43000000 lines.\u001b[39G43100000 lines.\u001b[39G43200000 lines.\u001b[39G43300000 lines.\u001b[39G43400000 lines.\u001b[39G43500000 lines.\u001b[39G43600000 lines.\u001b[39G43700000 lines.\u001b[39G43800000 lines.\u001b[39G43900000 lines.\u001b[39G44000000 lines.\u001b[39G44100000 lines.\u001b[39G44200000 lines.\u001b[39G44300000 lines.\u001b[39G44400000 lines.\u001b[39G44500000 lines.\u001b[39G44600000 lines.\u001b[39G44700000 lines.\u001b[39G44800000 lines.\u001b[39G44900000 lines.\u001b[39G45000000 lines.\u001b[39G45100000 lines.\u001b[39G45200000 lines.\u001b[39G45300000 lines.\u001b[39G45400000 lines.\u001b[39G45500000 lines.\u001b[39G45600000 lines.\u001b[39G45700000 lines.\u001b[39G45800000 lines.\u001b[39G45900000 lines.\u001b[39G46000000 lines.\u001b[39G46100000 lines.\u001b[39G46200000 lines.\u001b[39G46300000 lines.\u001b[39G46400000 lines.\u001b[39G46500000 lines.\u001b[39G46600000 lines.\u001b[39G46700000 lines.\u001b[39G46800000 lines.\u001b[39G46900000 lines.\u001b[39G47000000 lines.\u001b[39G47100000 lines.\u001b[39G47200000 lines.\u001b[39G47300000 lines.\u001b[39G47400000 lines.\u001b[39G47500000 lines.\u001b[39G47600000 lines.\u001b[39G47700000 lines.\u001b[39G47800000 lines.\u001b[39G47900000 lines.\u001b[39G48000000 lines.\u001b[39G48100000 lines.\u001b[39G48200000 lines.\u001b[39G48300000 lines.\u001b[39G48400000 lines.\u001b[39G48500000 lines.\u001b[39G48600000 lines.\u001b[39G48700000 lines.\u001b[39G48800000 lines.\u001b[39G48900000 lines.\u001b[39G49000000 lines.\u001b[39G49100000 lines.\u001b[39G49200000 lines.\u001b[39G49300000 lines.\u001b[39G49400000 lines.\u001b[39G49500000 lines.\u001b[39G49600000 lines.\u001b[39G49700000 lines.\u001b[39G49800000 lines.\u001b[39G49900000 lines.\u001b[39G50000000 lines.\u001b[39G50100000 lines.\u001b[39G50200000 lines.\u001b[39G50300000 lines.\u001b[39G50400000 lines.\u001b[39G50500000 lines.\u001b[39G50600000 lines.\u001b[39G50700000 lines.\u001b[39G50800000 lines.\u001b[39G50900000 lines.\u001b[39G51000000 lines.\u001b[39G51100000 lines.\u001b[39G51200000 lines.\u001b[39G51300000 lines.\u001b[39G51400000 lines.\u001b[39G51500000 lines.\u001b[39G51600000 lines.\u001b[39G51700000 lines.\u001b[39G51800000 lines.\u001b[39G51900000 lines.\u001b[39G52000000 lines.\u001b[39G52100000 lines.\u001b[39G52200000 lines.\u001b[39G52300000 lines.\u001b[39G52400000 lines.\u001b[39G52500000 lines.\u001b[39G52600000 lines.\u001b[39G52700000 lines.\u001b[39G52800000 lines.\u001b[39G52900000 lines.\u001b[39G53000000 lines.\u001b[39G53100000 lines.\u001b[39G53200000 lines.\u001b[39G53300000 lines.\u001b[39G53400000 lines.\u001b[39G53500000 lines.\u001b[39G53600000 lines.\u001b[39G53700000 lines.\u001b[39G53800000 lines.\u001b[39G53900000 lines.\u001b[39G54000000 lines.\u001b[39G54100000 lines.\u001b[39G54200000 lines.\u001b[39G54300000 lines.\u001b[39G54400000 lines.\u001b[39G54500000 lines.\u001b[39G54600000 lines.\u001b[39G54700000 lines.\u001b[39G54800000 lines.\u001b[39G54900000 lines.\u001b[39G55000000 lines.\u001b[39G55100000 lines.\u001b[39G55200000 lines.\u001b[39G55300000 lines.\u001b[39G55400000 lines.\u001b[39G55500000 lines.\u001b[39G55600000 lines.\u001b[39G55700000 lines.\u001b[39G55800000 lines.\u001b[39G55900000 lines.\u001b[39G56000000 lines.\u001b[39G56100000 lines.\u001b[39G56200000 lines.\u001b[39G56300000 lines.\u001b[39G56400000 lines.\u001b[39G56500000 lines.\u001b[39G56600000 lines.\u001b[39G56700000 lines.\u001b[39G56800000 lines.\u001b[39G56900000 lines.\u001b[39G57000000 lines.\u001b[39G57100000 lines.\u001b[39G57200000 lines.\u001b[39G57300000 lines.\u001b[39G57400000 lines.\u001b[39G57500000 lines.\u001b[39G57600000 lines.\u001b[39G57700000 lines.\u001b[39G57800000 lines.\u001b[39G57900000 lines.\u001b[39G58000000 lines.\u001b[39G58100000 lines.\u001b[39G58200000 lines.\u001b[39G58300000 lines.\u001b[39G58400000 lines.\u001b[39G58500000 lines.\u001b[39G58600000 lines.\u001b[39G58700000 lines.\u001b[39G58800000 lines.\u001b[39G58900000 lines.\u001b[39G59000000 lines.\u001b[39G59100000 lines.\u001b[39G59200000 lines.\u001b[39G59300000 lines.\u001b[39G59400000 lines.\u001b[39G59500000 lines.\u001b[39G59600000 lines.\u001b[39G59700000 lines.\u001b[39G59800000 lines.\u001b[39G59900000 lines.\u001b[39G60000000 lines.\u001b[39G60100000 lines.\u001b[39G60200000 lines.\u001b[39G60300000 lines.\u001b[39G60400000 lines.\u001b[39G60500000 lines.\u001b[39G60600000 lines.\u001b[0GMerging cooccurrence files: processed 60666468 lines.\n",
            "\n",
            "$ build/shuffle -memory 4.0 -verbose 2 < cooccurrence.bin > cooccurrence.shuf.bin\n",
            "Using random seed 1732619289\n",
            "SHUFFLING COOCCURRENCES\n",
            "array size: 255013683\n",
            "Shuffling by chunks: processed 0 lines.\u001b[22Gprocessed 60666468 lines.\n",
            "Wrote 1 temporary file(s).\n",
            "Merging temp files: processed 0 lines.\u001b[31G60666468 lines.\u001b[0GMerging temp files: processed 60666468 lines.\n",
            "\n",
            "$ build/glove -save-file vectors -threads 8 -input-file cooccurrence.shuf.bin -x-max 10 -iter 15 -vector-size 50 -binary 2 -vocab-file vocab.txt -verbose 2\n",
            "TRAINING MODEL\n",
            "Read 60666468 lines.\n",
            "Initializing parameters...Using random seed 1732619330\n",
            "done.\n",
            "vector size: 50\n",
            "vocab size: 71290\n",
            "x_max: 10.000000\n",
            "alpha: 0.750000\n",
            "11/26/24 - 11:10.03AM, iter: 001, cost: 0.071177\n",
            "11/26/24 - 11:11.11AM, iter: 002, cost: 0.052666\n",
            "11/26/24 - 11:12.20AM, iter: 003, cost: 0.046738\n",
            "11/26/24 - 11:13.30AM, iter: 004, cost: 0.043423\n",
            "11/26/24 - 11:14.37AM, iter: 005, cost: 0.041472\n",
            "11/26/24 - 11:15.47AM, iter: 006, cost: 0.040196\n",
            "11/26/24 - 11:16.56AM, iter: 007, cost: 0.039290\n",
            "11/26/24 - 11:18.04AM, iter: 008, cost: 0.038600\n",
            "11/26/24 - 11:19.14AM, iter: 009, cost: 0.038053\n",
            "11/26/24 - 11:20.19AM, iter: 010, cost: 0.037615\n",
            "11/26/24 - 11:21.29AM, iter: 011, cost: 0.037251\n",
            "11/26/24 - 11:22.36AM, iter: 012, cost: 0.036940\n",
            "11/26/24 - 11:23.44AM, iter: 013, cost: 0.036673\n",
            "11/26/24 - 11:24.51AM, iter: 014, cost: 0.036445\n",
            "11/26/24 - 11:25.58AM, iter: 015, cost: 0.036243\n",
            "$ python eval/python/evaluate.py\n",
            "capital-common-countries.txt:\n",
            "ACCURACY TOP1: 59.09% (299/506)\n",
            "capital-world.txt:\n",
            "ACCURACY TOP1: 26.46% (943/3564)\n",
            "currency.txt:\n",
            "ACCURACY TOP1: 4.87% (29/596)\n",
            "city-in-state.txt:\n",
            "ACCURACY TOP1: 27.04% (630/2330)\n",
            "family.txt:\n",
            "ACCURACY TOP1: 37.62% (158/420)\n",
            "gram1-adjective-to-adverb.txt:\n",
            "ACCURACY TOP1: 4.13% (41/992)\n",
            "gram2-opposite.txt:\n",
            "ACCURACY TOP1: 3.17% (24/756)\n",
            "gram3-comparative.txt:\n",
            "ACCURACY TOP1: 25.98% (346/1332)\n",
            "gram4-superlative.txt:\n",
            "ACCURACY TOP1: 6.85% (68/992)\n",
            "gram5-present-participle.txt:\n",
            "ACCURACY TOP1: 14.30% (151/1056)\n",
            "gram6-nationality-adjective.txt:\n",
            "ACCURACY TOP1: 59.37% (903/1521)\n",
            "gram7-past-tense.txt:\n",
            "ACCURACY TOP1: 13.08% (204/1560)\n",
            "gram8-plural.txt:\n",
            "ACCURACY TOP1: 26.88% (358/1332)\n",
            "gram9-plural-verbs.txt:\n",
            "ACCURACY TOP1: 6.78% (59/870)\n",
            "Questions seen/total: 91.21% (17827/19544)\n",
            "Semantic accuracy: 27.76%  (2059/7416)\n",
            "Syntactic accuracy: 20.69%  (2154/10411)\n",
            "Total accuracy: 23.63%  (4213/17827)\n"
          ]
        }
      ]
    },
    {
      "cell_type": "markdown",
      "source": [
        "The code above made Glove embeddings from the actual dataset whihc will be later be used for training the model."
      ],
      "metadata": {
        "id": "YUPvLOZEmXHA"
      }
    },
    {
      "cell_type": "code",
      "source": [
        "!pip install optuna"
      ],
      "metadata": {
        "colab": {
          "base_uri": "https://localhost:8080/"
        },
        "id": "1txb1ZjWOg23",
        "outputId": "4c24aa89-d139-4e8f-9dd9-3cef22d1dabc"
      },
      "execution_count": null,
      "outputs": [
        {
          "output_type": "stream",
          "name": "stdout",
          "text": [
            "Collecting optuna\n",
            "  Downloading optuna-4.1.0-py3-none-any.whl.metadata (16 kB)\n",
            "Collecting alembic>=1.5.0 (from optuna)\n",
            "  Downloading alembic-1.14.0-py3-none-any.whl.metadata (7.4 kB)\n",
            "Collecting colorlog (from optuna)\n",
            "  Downloading colorlog-6.9.0-py3-none-any.whl.metadata (10 kB)\n",
            "Requirement already satisfied: numpy in /usr/local/lib/python3.10/dist-packages (from optuna) (1.26.4)\n",
            "Requirement already satisfied: packaging>=20.0 in /usr/local/lib/python3.10/dist-packages (from optuna) (24.2)\n",
            "Requirement already satisfied: sqlalchemy>=1.4.2 in /usr/local/lib/python3.10/dist-packages (from optuna) (2.0.36)\n",
            "Requirement already satisfied: tqdm in /usr/local/lib/python3.10/dist-packages (from optuna) (4.66.6)\n",
            "Requirement already satisfied: PyYAML in /usr/local/lib/python3.10/dist-packages (from optuna) (6.0.2)\n",
            "Collecting Mako (from alembic>=1.5.0->optuna)\n",
            "  Downloading Mako-1.3.6-py3-none-any.whl.metadata (2.9 kB)\n",
            "Requirement already satisfied: typing-extensions>=4 in /usr/local/lib/python3.10/dist-packages (from alembic>=1.5.0->optuna) (4.12.2)\n",
            "Requirement already satisfied: greenlet!=0.4.17 in /usr/local/lib/python3.10/dist-packages (from sqlalchemy>=1.4.2->optuna) (3.1.1)\n",
            "Requirement already satisfied: MarkupSafe>=0.9.2 in /usr/local/lib/python3.10/dist-packages (from Mako->alembic>=1.5.0->optuna) (3.0.2)\n",
            "Downloading optuna-4.1.0-py3-none-any.whl (364 kB)\n",
            "\u001b[2K   \u001b[90m━━━━━━━━━━━━━━━━━━━━━━━━━━━━━━━━━━━━━━━━\u001b[0m \u001b[32m364.4/364.4 kB\u001b[0m \u001b[31m23.2 MB/s\u001b[0m eta \u001b[36m0:00:00\u001b[0m\n",
            "\u001b[?25hDownloading alembic-1.14.0-py3-none-any.whl (233 kB)\n",
            "\u001b[2K   \u001b[90m━━━━━━━━━━━━━━━━━━━━━━━━━━━━━━━━━━━━━━━━\u001b[0m \u001b[32m233.5/233.5 kB\u001b[0m \u001b[31m12.7 MB/s\u001b[0m eta \u001b[36m0:00:00\u001b[0m\n",
            "\u001b[?25hDownloading colorlog-6.9.0-py3-none-any.whl (11 kB)\n",
            "Downloading Mako-1.3.6-py3-none-any.whl (78 kB)\n",
            "\u001b[2K   \u001b[90m━━━━━━━━━━━━━━━━━━━━━━━━━━━━━━━━━━━━━━━━\u001b[0m \u001b[32m78.6/78.6 kB\u001b[0m \u001b[31m5.1 MB/s\u001b[0m eta \u001b[36m0:00:00\u001b[0m\n",
            "\u001b[?25hInstalling collected packages: Mako, colorlog, alembic, optuna\n",
            "Successfully installed Mako-1.3.6 alembic-1.14.0 colorlog-6.9.0 optuna-4.1.0\n"
          ]
        }
      ]
    },
    {
      "source": [
        "# Import necessary libraries\n",
        "import torch\n",
        "import pandas as pd\n",
        "import numpy as np\n",
        "import re\n",
        "import string\n",
        "import transformers\n",
        "import seaborn as sns\n",
        "import sklearn.metrics as metrics\n",
        "import matplotlib.pyplot as plt\n",
        "from sklearn.model_selection import train_test_split\n",
        "from transformers import logging\n",
        "from tensorflow.keras.callbacks import EarlyStopping\n",
        "from sklearn.metrics import confusion_matrix, classification_report,accuracy_score\n",
        "from transformers import AdamW\n",
        "import optuna\n",
        "from keras.optimizers import Adam\n",
        "from sklearn.metrics import confusion_matrix, ConfusionMatrixDisplay\n",
        "from sklearn.preprocessing import LabelEncoder\n",
        "from sklearn.preprocessing import OneHotEncoder\n",
        "from keras.models import Sequential\n",
        "from keras.layers import Embedding, LSTM, Dense\n",
        "from tensorflow.keras.preprocessing.text import Tokenizer\n",
        "from keras.preprocessing.sequence import pad_sequences\n",
        "from tensorflow.keras.layers import Embedding\n",
        "\n",
        "# Suppress warnings for cleaner output\n",
        "logging.set_verbosity_error()\n",
        "\n",
        "# Check if GPU is available\n",
        "device = 'cuda' if torch.cuda.is_available() else 'cpu'\n",
        "print(f\"Using device: {device}\")"
      ],
      "cell_type": "code",
      "metadata": {
        "id": "KSzPBZzt3j6D",
        "colab": {
          "base_uri": "https://localhost:8080/"
        },
        "outputId": "633dee9d-f593-4738-d291-6836e63b1d86"
      },
      "execution_count": null,
      "outputs": [
        {
          "output_type": "stream",
          "name": "stdout",
          "text": [
            "Using device: cuda\n"
          ]
        }
      ]
    },
    {
      "cell_type": "markdown",
      "source": [
        "**1. DATA LOADING**\n",
        "\n"
      ],
      "metadata": {
        "id": "5Ro3RVmyEBSZ"
      }
    },
    {
      "cell_type": "code",
      "execution_count": null,
      "metadata": {
        "id": "o4jvQ3VvFpe4",
        "colab": {
          "base_uri": "https://localhost:8080/"
        },
        "outputId": "3b57281f-2534-47b8-dafb-b54610e7ba70"
      },
      "outputs": [
        {
          "output_type": "stream",
          "name": "stdout",
          "text": [
            "Dataset Columns: Index(['TEXT', 'LABEL'], dtype='object')\n",
            "Unique Labels: {'Business', 'Biblical', 'Political', 'Sports', 'Academic'}\n"
          ]
        }
      ],
      "source": [
        "# Load data\n",
        "path = \"/content/KAMBA DATASET.xlsx\"\n",
        "data = pd.read_excel(path)\n",
        "\n",
        "# Filter data to keep only relevant columns and rows\n",
        "data = data[data['VERSION'].str.startswith('O:')]\n",
        "data = data.dropna(subset=['TEXT'])\n",
        "data = data[['TEXT', 'LABEL']].copy()\n",
        "\n",
        "# Verify dataset structure\n",
        "print(\"Dataset Columns:\", data.columns)\n",
        "print(\"Unique Labels:\", set(data['LABEL'].values.tolist()))"
      ]
    },
    {
      "cell_type": "markdown",
      "source": [
        "Since the dataset contained both English and Kamaba text the above code only extracted the Kamba text and removed any missing values that may have existed in the excel file.\n",
        "\n",
        "It also showed what labels are there in the datasets  and from it we were able to obtain 5 lables :- 'Business', 'Biblical', 'Political', 'Sports', 'Academic'"
      ],
      "metadata": {
        "id": "rXiDBrFvmmOF"
      }
    },
    {
      "cell_type": "code",
      "execution_count": null,
      "metadata": {
        "id": "IEe44F2NSxZW",
        "colab": {
          "base_uri": "https://localhost:8080/",
          "height": 557
        },
        "outputId": "f2c03f8f-d51b-4356-a215-23dd70392eb6"
      },
      "outputs": [
        {
          "output_type": "display_data",
          "data": {
            "text/plain": [
              "<Figure size 800x800 with 0 Axes>"
            ]
          },
          "metadata": {}
        },
        {
          "output_type": "display_data",
          "data": {
            "text/plain": [
              "<Figure size 500x500 with 1 Axes>"
            ],
            "image/png": "[encoded data removed]"
          },
          "metadata": {}
        }
      ],
      "source": [
        "# Create a new column 'count' representing the number of words in 'TEXT'\n",
        "data['count'] = data['TEXT'].apply(lambda text: len(text.split()))\n",
        "\n",
        "plt.figure(figsize=(8, 8))\n",
        "sns.displot(data['count'])\n",
        "plt.xlim(5, 30)\n",
        "plt.xlabel('The num of words', fontsize=16)\n",
        "plt.title('The Number of Words Distribution', fontsize=18)\n",
        "plt.show()"
      ]
    },
    {
      "cell_type": "markdown",
      "source": [
        "The above code visualize the frequency of words in the text and form it we see that the most frequent number of words are between 10- 15."
      ],
      "metadata": {
        "id": "jNL_U9DDnR6Q"
      }
    },
    {
      "cell_type": "code",
      "execution_count": null,
      "metadata": {
        "id": "rpXEZlTESyCp",
        "colab": {
          "base_uri": "https://localhost:8080/",
          "height": 272
        },
        "outputId": "3f0fbc7a-1baf-4735-ef68-5a550e3e79c6"
      },
      "outputs": [
        {
          "output_type": "execute_result",
          "data": {
            "text/plain": [
              "LABEL\n",
              "Political    80\n",
              "Academic     70\n",
              "Biblical     60\n",
              "Business     60\n",
              "Sports       60\n",
              "Name: count, dtype: int64"
            ],
            "text/html": [
              "<div>\n",
              "<style scoped>\n",
              "    .dataframe tbody tr th:only-of-type {\n",
              "        vertical-align: middle;\n",
              "    }\n",
              "\n",
              "    .dataframe tbody tr th {\n",
              "        vertical-align: top;\n",
              "    }\n",
              "\n",
              "    .dataframe thead th {\n",
              "        text-align: right;\n",
              "    }\n",
              "</style>\n",
              "<table border=\"1\" class=\"dataframe\">\n",
              "  <thead>\n",
              "    <tr style=\"text-align: right;\">\n",
              "      <th></th>\n",
              "      <th>count</th>\n",
              "    </tr>\n",
              "    <tr>\n",
              "      <th>LABEL</th>\n",
              "      <th></th>\n",
              "    </tr>\n",
              "  </thead>\n",
              "  <tbody>\n",
              "    <tr>\n",
              "      <th>Political</th>\n",
              "      <td>80</td>\n",
              "    </tr>\n",
              "    <tr>\n",
              "      <th>Academic</th>\n",
              "      <td>70</td>\n",
              "    </tr>\n",
              "    <tr>\n",
              "      <th>Biblical</th>\n",
              "      <td>60</td>\n",
              "    </tr>\n",
              "    <tr>\n",
              "      <th>Business</th>\n",
              "      <td>60</td>\n",
              "    </tr>\n",
              "    <tr>\n",
              "      <th>Sports</th>\n",
              "      <td>60</td>\n",
              "    </tr>\n",
              "  </tbody>\n",
              "</table>\n",
              "</div><br><label><b>dtype:</b> int64</label>"
            ]
          },
          "metadata": {},
          "execution_count": 7
        }
      ],
      "source": [
        "data['LABEL'].value_counts()"
      ]
    },
    {
      "cell_type": "markdown",
      "source": [
        "The above code tries to count how may text or sentence are labeled as a certain catergory. Form it we see that the the  label Political has highest number and least are Bibilical, Business and Sports.\n",
        "\n",
        "The code below is a visual represenation of the frequencies of the label"
      ],
      "metadata": {
        "id": "mubhJM0yntab"
      }
    },
    {
      "cell_type": "code",
      "execution_count": null,
      "metadata": {
        "id": "fMgBt6nsS1qn",
        "colab": {
          "base_uri": "https://localhost:8080/",
          "height": 472
        },
        "outputId": "4ee4f848-79fe-4635-e018-310e6b465b40"
      },
      "outputs": [
        {
          "output_type": "display_data",
          "data": {
            "text/plain": [
              "<Figure size 1200x500 with 1 Axes>"
            ],
            "image/png": "[encoded data removed]"
          },
          "metadata": {}
        }
      ],
      "source": [
        "# Count each category\n",
        "category_count = data['LABEL'].value_counts()\n",
        "\n",
        "# Define categories based on the index of category_count\n",
        "categories = category_count.index.tolist()\n",
        "\n",
        "# Now proceed with your plotting code\n",
        "fig = plt.figure(figsize= (12, 5))\n",
        "\n",
        "ax = fig.add_subplot(111)\n",
        "\n",
        "# Use 'category_count' as intended\n",
        "sns.barplot(x = category_count.index, y = category_count )\n",
        "\n",
        "for a, p in enumerate(ax.patches):\n",
        "    ax.annotate(f'{categories[a]}\\n' + format(p.get_height(), '.0f'), xy = (p.get_x() + p.get_width() / 2.0, p.get_height()), xytext = (0,-25), size = 13, color = 'white' , ha = 'center', va = 'center', textcoords = 'offset points', bbox = dict(boxstyle = 'round', facecolor='none',edgecolor='white', alpha = 0.5) )\n",
        "\n",
        "plt.xlabel('Categories', size = 15)\n",
        "\n",
        "plt.ylabel('The Number of News', size= 15)\n",
        "\n",
        "plt.xticks(size = 12)\n",
        "\n",
        "plt.title(\"The number of News by Categories\" , size = 18)\n",
        "\n",
        "plt.show()"
      ]
    },
    {
      "cell_type": "markdown",
      "source": [
        "**2. DATA PREPROCESSING**\n",
        "\n",
        "Although the dataset was created from scratch, data preprocessing was necessary to ensure consistency and usability. The preprocessing steps included the following:\n",
        "\n",
        "* **Conversion to lowercase:** Standardized all text to lowercase.\n",
        "* **Removal of non-numeric and alphanumeric characters:** Eliminated unwanted characters to clean the dataset.\n",
        "* **Trimming extra spaces:** Removed redundant spaces for uniformity.\n",
        "* **Tokenization:** Split text into individual words (word split).\n",
        "* **Stopword removal:** Filtered out common, non-informative words.\n",
        "* **Punctuation removal:** Excluded punctuation marks.\n",
        "* **Normalization:** Processed text for consistency by reducing variations\n",
        "* **Removal of special characters and symbols:** Cleared any remaining unwanted elements.\n",
        "\n",
        "For stopwords, a custom approach was applied. Since Kamba, a Bantu language, is closely related to Swahili, Swahili stopwords were used as a basis for this process.\n",
        "\n",
        "Regarding punctuation, as there is no standard punctuation specific to Bantu languages, I combined elements of English and Swahili punctuation to create a set exclusively tailored for Kamba."
      ],
      "metadata": {
        "id": "0izJTz_wojrP"
      }
    },
    {
      "cell_type": "code",
      "source": [
        "# Load Swahili stopwords\n",
        "path = \"/content/swahili_stopwords.csv\"\n",
        "swahili_stopwords = pd.read_csv(path, header=None, encoding='latin-1')\n",
        "swahili_stopwords = swahili_stopwords[0].tolist()\n",
        "\n",
        "# Function to preprocess Kamba text\n",
        "def preprocess_kamba_text(text, stopwords):\n",
        "    # Convert to lowercase\n",
        "    text = text.lower()\n",
        "    # Remove non-alphanumeric characters\n",
        "    text = re.sub(r'[^a-zA-Z\\s]', '', text)\n",
        "    # Remove extra spaces\n",
        "    text = re.sub(r'\\s+', ' ', text).strip()\n",
        "    # Tokenize text\n",
        "    words = text.split()\n",
        "    # Remove stopwords\n",
        "    words = [word for word in words if word not in stopwords]\n",
        "    # Join words back into a string\n",
        "    return ' '.join(words)\n",
        "\n",
        "# Function to remove punctuations\n",
        "def remove_punctuations(text):\n",
        "    # Define English punctuations\n",
        "    english_punctuations = string.punctuation\n",
        "    punctuations_list = english_punctuations\n",
        "    translator = str.maketrans('', '', punctuations_list)\n",
        "    return text.translate(translator)\n",
        "\n",
        "# Function to normalize text\n",
        "def normalize_text(text):\n",
        "    # Remove non-alphabetic characters and special symbols\n",
        "    text = re.sub(r'[^a-zA-Z\\s]', '', text)\n",
        "    # Convert text to lowercase\n",
        "    text = text.lower()\n",
        "    return text\n",
        "\n",
        "# General text preprocessing pipeline\n",
        "def preprocess_text(text, stopwords):\n",
        "    # Remove punctuation\n",
        "    text = remove_punctuations(text)\n",
        "    # Normalize text\n",
        "    text = normalize_text(text)\n",
        "    # Tokenize and remove stopwords\n",
        "    text = ' '.join([word for word in text.split() if word not in stopwords])\n",
        "    return text"
      ],
      "metadata": {
        "id": "o7ctAWzH2JIT"
      },
      "execution_count": null,
      "outputs": []
    },
    {
      "source": [
        "# Print a sample of the processed text\n",
        "data['Text'] = data['TEXT'].apply(normalize_text)\n",
        "\n",
        "texts = data['Text'].values\n",
        "labels = data['LABEL'].values\n",
        "\n",
        "texts[0], labels[0]"
      ],
      "cell_type": "code",
      "metadata": {
        "id": "pYeCRxXG4hPn",
        "colab": {
          "base_uri": "https://localhost:8080/"
        },
        "outputId": "1baf2a4e-2c9f-4ea1-bd92-32c9666c2834"
      },
      "execution_count": null,
      "outputs": [
        {
          "output_type": "execute_result",
          "data": {
            "text/plain": [
              "('mnini kvnd k tonyi nth n ky nene kkwendeka ktetheesya and ma nth',\n",
              " 'Political')"
            ]
          },
          "metadata": {},
          "execution_count": 10
        }
      ]
    },
    {
      "cell_type": "markdown",
      "source": [
        "**3. DATA PREPARATION FOR MODELLING**\n",
        "\n",
        "**Objective:** Tokenize and encode the text data for the classification model.\n",
        "\n",
        "In this step we encoded the labales that is conversion of the categorical labels into numeric format\n",
        "\n"
      ],
      "metadata": {
        "id": "-X2NeHDxrqKr"
      }
    },
    {
      "source": [
        "# One hot encode the labels\n",
        "encoder = OneHotEncoder(sparse_output=False)\n",
        "labels = encoder.fit_transform(labels.reshape(-1, 1))\n",
        "\n",
        "encoder.categories_"
      ],
      "cell_type": "code",
      "metadata": {
        "id": "Qf1iOMxg4oLs",
        "colab": {
          "base_uri": "https://localhost:8080/"
        },
        "outputId": "71c5006c-293b-44da-e747-e42f101021bb"
      },
      "execution_count": null,
      "outputs": [
        {
          "output_type": "execute_result",
          "data": {
            "text/plain": [
              "[array(['Academic', 'Biblical', 'Business', 'Political', 'Sports'],\n",
              "       dtype=object)]"
            ]
          },
          "metadata": {},
          "execution_count": 11
        }
      ]
    },
    {
      "cell_type": "markdown",
      "source": [
        "The data is split into trin and tetx in the ration 80-20\n",
        "\n",
        "It then converts text into sequences of word indices and pads them to a fixed length for input into the neural network.\n",
        "\n"
      ],
      "metadata": {
        "id": "MvYlvATbsLMO"
      }
    },
    {
      "cell_type": "code",
      "source": [
        "# Split the dataset into training and testing sets\n",
        "train_texts, test_texts, train_labels, test_labels = train_test_split(texts, labels, test_size=0.2, random_state=42)\n"
      ],
      "metadata": {
        "id": "D7UfcTSx2gZI"
      },
      "execution_count": null,
      "outputs": []
    },
    {
      "cell_type": "markdown",
      "source": [
        "Here is how tokenization was done:-\n",
        " 1. The Tokenizer is created with the num_words parameter set to max_words, limiting the vocabulary to the max_words most common words in the dataset. Less frequent words are ignored.\n",
        "\n",
        " 2. The fit_on_texts method processes train_texts (a list of sentences) and creates a vocabulary. Each unique word is assigned a unique integer index, with more frequent words getting smaller indices.\n",
        "\n",
        " 3. The texts_to_sequences method transforms each sentence into a list of integers, where each integer corresponds to a word's index in the vocabulary. Words not in the vocabulary are skipped.\n",
        "\n",
        " 4. The sequences are padded to a fixed length using pad_sequences, ensuring uniform input size for the neural network.\n",
        "\n"
      ],
      "metadata": {
        "id": "p8sERo_9sT5w"
      }
    },
    {
      "cell_type": "code",
      "source": [
        "max_words = 1000\n",
        "max_len = 200\n",
        "\n",
        "tokenizer = Tokenizer(num_words=max_words)\n",
        "tokenizer.fit_on_texts(train_texts)\n",
        "\n",
        "train_sequences = tokenizer.texts_to_sequences(train_texts)\n",
        "test_sequences = tokenizer.texts_to_sequences(test_texts)\n",
        "\n",
        "train_data = pad_sequences(train_sequences, maxlen=max_len)\n",
        "test_data = pad_sequences(test_sequences, maxlen=max_len)\n"
      ],
      "metadata": {
        "id": "QWKjvLkB2iRf"
      },
      "execution_count": null,
      "outputs": []
    },
    {
      "cell_type": "code",
      "source": [
        "train_data[0].shape, train_labels[0].shape\n"
      ],
      "metadata": {
        "id": "sdXKgz1E2kWq",
        "colab": {
          "base_uri": "https://localhost:8080/"
        },
        "outputId": "8f184bb1-e902-410b-d893-1e00a1df2b3f"
      },
      "execution_count": null,
      "outputs": [
        {
          "output_type": "execute_result",
          "data": {
            "text/plain": [
              "((200,), (5,))"
            ]
          },
          "metadata": {},
          "execution_count": 14
        }
      ]
    },
    {
      "cell_type": "markdown",
      "source": [
        "**4. LOAD GLOVE EMBEDDINGS**\n",
        "\n",
        "At the start of this project, I created my own embeddings directly from the dataset. However, the code below now focuses on loading pre-trained GloVe embeddings into a dictionary for use.\n",
        "\n",
        "So mainly my code does the following :-\n",
        " * The pre-trained GloVe embeddings are stored as a text file.\n",
        " * Each line contains a word followed by its embedding vector (a series of numerical values representing the word).\n",
        " * The code reads this file line by line, extracting each word and its corresponding vector.\n",
        " * These word-embedding pairs are then stored in a Python dictionary for easy access during the project."
      ],
      "metadata": {
        "id": "5NYSTVxKuLJh"
      }
    },
    {
      "cell_type": "code",
      "source": [
        "# Load GloVe embeddings\n",
        "embedding_index = {}\n",
        "glove_path = \"/content/glove/vectors.txt\"\n",
        "with open(glove_path, 'r', encoding='utf-8') as f:\n",
        "    for line in f:\n",
        "        values = line.split()\n",
        "        word = values[0]\n",
        "        coefficients = np.asarray(values[1:], dtype='float32')\n",
        "        embedding_index[word] = coefficients\n",
        "\n",
        "print(f\"Loaded {len(embedding_index)} word vectors from GloVe.\")"
      ],
      "metadata": {
        "id": "5hEJCNlHGMZZ",
        "colab": {
          "base_uri": "https://localhost:8080/"
        },
        "outputId": "8a2a52f9-0dbb-4482-c764-4bf8aec6d71c"
      },
      "execution_count": null,
      "outputs": [
        {
          "output_type": "stream",
          "name": "stdout",
          "text": [
            "Loaded 71291 word vectors from GloVe.\n"
          ]
        }
      ]
    },
    {
      "cell_type": "markdown",
      "source": [
        "The otput 71291 word vectors shows that the code successfully read and processed 71,291 unique words from the GloVe file.\n",
        "\n",
        "The code below on emebdding matrix then maps the tokenized vocabulary to their corresponding GloVe vectors."
      ],
      "metadata": {
        "id": "vhSc7xcpvJrp"
      }
    },
    {
      "cell_type": "code",
      "source": [
        "# Create embedding matrix\n",
        "embedding_dim = 50\n",
        "embedding_matrix = np.zeros((max_words, embedding_dim))\n",
        "for word, i in tokenizer.word_index.items():\n",
        "    if i < max_words:\n",
        "        embedding_vector = embedding_index.get(word)\n",
        "        if embedding_vector is not None:\n",
        "            embedding_matrix[i] = embedding_vector"
      ],
      "metadata": {
        "id": "Xs-9fX1xImro"
      },
      "execution_count": null,
      "outputs": []
    },
    {
      "cell_type": "markdown",
      "source": [
        "**5. DEFINE AND TRAIN THE MODEL**\n",
        "\n",
        "The code below does the following :-\n",
        " * Builds an LSTM model using pre-trained GloVe embeddings.\n",
        " * Compiles the model with categorical crossentropy loss and the Adam optimizer.\n",
        " * Trains the model on the processed dataset."
      ],
      "metadata": {
        "id": "7ifhj1HAv4gv"
      }
    },
    {
      "cell_type": "code",
      "source": [
        "# Define the classification model\n",
        "model = Sequential()\n",
        "model.add(Embedding(input_dim=max_words,output_dim=embedding_dim,input_length=max_len,weights=[embedding_matrix],trainable=False))\n",
        "model.add(LSTM(128, dropout=0.2, recurrent_dropout=0.2))\n",
        "model.add(Dense(len(encoder.categories_[0]), activation='softmax'))\n"
      ],
      "metadata": {
        "id": "7XkbzlrxGtR7",
        "colab": {
          "base_uri": "https://localhost:8080/"
        },
        "outputId": "859f20d9-9647-4dbd-caf9-04b6aabd0ac2"
      },
      "execution_count": null,
      "outputs": [
        {
          "output_type": "stream",
          "name": "stderr",
          "text": [
            "/usr/local/lib/python3.10/dist-packages/keras/src/layers/core/embedding.py:90: UserWarning: Argument `input_length` is deprecated. Just remove it.\n",
            "  warnings.warn(\n"
          ]
        }
      ]
    },
    {
      "cell_type": "code",
      "source": [
        "# Compile the model\n",
        "model.compile(loss='categorical_crossentropy',optimizer='adam',metrics=['accuracy'])\n",
        "\n",
        "print(f\"Embedding matrix shape: {embedding_matrix.shape}\")\n",
        "print(f\"Train data shape: {train_data.shape}\")\n",
        "print(f\"Train labels shape: {train_labels.shape}\")"
      ],
      "metadata": {
        "id": "tPQlgcIWGUus",
        "colab": {
          "base_uri": "https://localhost:8080/"
        },
        "outputId": "8795e111-8523-4fb5-948b-e2abb3d6e42c"
      },
      "execution_count": null,
      "outputs": [
        {
          "output_type": "stream",
          "name": "stdout",
          "text": [
            "Embedding matrix shape: (1000, 50)\n",
            "Train data shape: (264, 200)\n",
            "Train labels shape: (264, 5)\n"
          ]
        }
      ]
    },
    {
      "cell_type": "markdown",
      "source": [
        "The above results mean the following:-\n",
        "\n",
        "1. The maximum vocabulary size, meaning it contains embeddings for up to 1000 unique words. and for The each its dimensionality is 50.\n",
        "\n",
        "2. The number of training samples is 264 and the length of each text after padding is truncated or padded to a fixed length of 200 tokens.\n",
        "\n",
        "3. The number of samples in the training data is 264 with a total of 5 unique lables in the sample.\n"
      ],
      "metadata": {
        "id": "5i3c0ACSx4aT"
      }
    },
    {
      "cell_type": "markdown",
      "source": [
        "**6. EVALUATE THE MODEL**\n",
        "\n",
        "Here the code trian the model and then evaluates the model on the test set and prints the loss and accuracy."
      ],
      "metadata": {
        "id": "tLxHvD86wKoY"
      }
    },
    {
      "cell_type": "code",
      "source": [
        "# Train the model\n",
        "history = model.fit(train_data, train_labels, validation_split=0.2, batch_size=32, epochs=10, verbose=1)\n",
        "\n",
        "# Evaluate the model\n",
        "loss, accuracy = model.evaluate(test_data, test_labels, verbose=0)\n",
        "print(f\"Test Loss: {loss}, Test Accuracy: {accuracy}\")\n"
      ],
      "metadata": {
        "id": "aSoWI6tbGv0k",
        "colab": {
          "base_uri": "https://localhost:8080/"
        },
        "outputId": "0fe5e34d-a1f6-48d7-e9d0-5bd7107a0e36"
      },
      "execution_count": null,
      "outputs": [
        {
          "output_type": "stream",
          "name": "stdout",
          "text": [
            "Epoch 1/10\n",
            "\u001b[1m7/7\u001b[0m \u001b[32m━━━━━━━━━━━━━━━━━━━━\u001b[0m\u001b[37m\u001b[0m \u001b[1m15s\u001b[0m 855ms/step - accuracy: 0.3102 - loss: 1.5749 - val_accuracy: 0.3208 - val_loss: 1.5443\n",
            "Epoch 2/10\n",
            "\u001b[1m7/7\u001b[0m \u001b[32m━━━━━━━━━━━━━━━━━━━━\u001b[0m\u001b[37m\u001b[0m \u001b[1m11s\u001b[0m 630ms/step - accuracy: 0.4745 - loss: 1.4884 - val_accuracy: 0.3396 - val_loss: 1.4947\n",
            "Epoch 3/10\n",
            "\u001b[1m7/7\u001b[0m \u001b[32m━━━━━━━━━━━━━━━━━━━━\u001b[0m\u001b[37m\u001b[0m \u001b[1m4s\u001b[0m 408ms/step - accuracy: 0.4394 - loss: 1.4111 - val_accuracy: 0.3774 - val_loss: 1.4134\n",
            "Epoch 4/10\n",
            "\u001b[1m7/7\u001b[0m \u001b[32m━━━━━━━━━━━━━━━━━━━━\u001b[0m\u001b[37m\u001b[0m \u001b[1m2s\u001b[0m 294ms/step - accuracy: 0.4769 - loss: 1.3103 - val_accuracy: 0.4717 - val_loss: 1.2994\n",
            "Epoch 5/10\n",
            "\u001b[1m7/7\u001b[0m \u001b[32m━━━━━━━━━━━━━━━━━━━━\u001b[0m\u001b[37m\u001b[0m \u001b[1m2s\u001b[0m 288ms/step - accuracy: 0.5880 - loss: 1.2138 - val_accuracy: 0.5094 - val_loss: 1.2122\n",
            "Epoch 6/10\n",
            "\u001b[1m7/7\u001b[0m \u001b[32m━━━━━━━━━━━━━━━━━━━━\u001b[0m\u001b[37m\u001b[0m \u001b[1m2s\u001b[0m 289ms/step - accuracy: 0.6134 - loss: 1.0689 - val_accuracy: 0.5283 - val_loss: 1.1424\n",
            "Epoch 7/10\n",
            "\u001b[1m7/7\u001b[0m \u001b[32m━━━━━━━━━━━━━━━━━━━━\u001b[0m\u001b[37m\u001b[0m \u001b[1m3s\u001b[0m 293ms/step - accuracy: 0.6132 - loss: 1.0488 - val_accuracy: 0.5472 - val_loss: 1.0685\n",
            "Epoch 8/10\n",
            "\u001b[1m7/7\u001b[0m \u001b[32m━━━━━━━━━━━━━━━━━━━━\u001b[0m\u001b[37m\u001b[0m \u001b[1m5s\u001b[0m 614ms/step - accuracy: 0.6366 - loss: 0.9498 - val_accuracy: 0.6038 - val_loss: 1.0375\n",
            "Epoch 9/10\n",
            "\u001b[1m7/7\u001b[0m \u001b[32m━━━━━━━━━━━━━━━━━━━━\u001b[0m\u001b[37m\u001b[0m \u001b[1m5s\u001b[0m 511ms/step - accuracy: 0.6437 - loss: 0.9302 - val_accuracy: 0.6038 - val_loss: 0.9960\n",
            "Epoch 10/10\n",
            "\u001b[1m7/7\u001b[0m \u001b[32m━━━━━━━━━━━━━━━━━━━━\u001b[0m\u001b[37m\u001b[0m \u001b[1m3s\u001b[0m 287ms/step - accuracy: 0.6547 - loss: 0.8961 - val_accuracy: 0.6038 - val_loss: 0.9574\n",
            "Test Loss: 1.2711249589920044, Test Accuracy: 0.560606062412262\n"
          ]
        }
      ]
    },
    {
      "cell_type": "markdown",
      "source": [
        "Form the output above as training progresses the following happens:-\n",
        " * Training accuracy increases thus showing that the model is learning patterns in the training data.\n",
        " * Validation accuracy improves initially, then stabilizes which shows the model generalizes better to unseen data as it learns.\n",
        " * Training and validation losses decreasewhcih suggests that the model is fitting the data better while avoiding overfitting.\n",
        "\n",
        "At the end of it all we see that the the loss on the test dataset is 1.2711 which  indicates how well the model performs on unseen data.\n",
        "\n",
        "Also the test accuracy is 56.06%, meaning the model correctly predicts about 56% of the test samples\n"
      ],
      "metadata": {
        "id": "gcTeEa75ypqo"
      }
    },
    {
      "cell_type": "markdown",
      "source": [
        "**7. HYPERPARAMETER TUNING**\n",
        "\n",
        "Since the previous model achieved an accuracy of around 56%, I decided to optimize the model's hyperparameters to potentially improve its performance. The code below uses Optuna, a powerful hyperparameter optimization library, to systematically search for the best combination of parameters for the LSTM model.\n",
        "\n",
        "This process involves varying key parameters such as:\n",
        "\n",
        "* Number of LSTM units: Determines the complexity of the LSTM layer.\n",
        "* Dropout rate: Helps prevent overfitting by randomly dropping connections during training.\n",
        "* Learning rate: Controls how much the model's weights are updated during training.\n",
        "\n",
        "With the code we have the folloing parts:-\n",
        "\n",
        "**1. Define the Model Creation Function (create_model)**\n",
        "\n",
        "The main purpose for this fucntion is to build the LSTM model with hyperparameters suggested by Optuna.Here we have the following key components:-\n",
        "\n",
        "  * Embedding Layer that converts word indices into dense vectors using a pre-trained embedding matrix.\n",
        "  * LSTM Layer that uses the lstm_units parameter suggested by Optuna to define the number of units in the LSTM.\n",
        "  * Dense Layer that outputs predictions for each class using the softmax activation function.\n",
        "  * Optimizer that uses the Adam optimizer with a learning rate determined by Optuna.\n",
        "\n",
        "**2.  Define the Objective Function (objective)**\n",
        "\n",
        "The purpose for this function is to train the model and evaluate its validation accuracy to guide Optuna's optimization process. Within it we have the following steps:\n",
        "\n",
        "  * Create a model with hyperparameters suggested by the current trial.\n",
        "  * Train the model using the training data, with a validation split of 20%.\n",
        "  * Use early stopping to halt training if validation loss doesn't improve for 3 consecutive epochs, avoiding unnecessary computation.\n",
        "  * Return the highest validation accuracy during training for Optuna to evaluate this trial.\n",
        "\n",
        "**3. Run the Optimization (study.optimize)**\n",
        "\n",
        "The main purpose for this last step is to  executes multiple trials to find the best hyperparameter combination.It contains the following key components:-\n",
        "  \n",
        "  * Optuna Study that configures to maximize the validation accuracy.\n",
        "  * Number of Trials that is limited to 10."
      ],
      "metadata": {
        "id": "waCC-7fazaCj"
      }
    },
    {
      "cell_type": "code",
      "source": [
        "# Hyperparameter tuning using Optuna\n",
        "def create_model(trial):\n",
        "    # Keep embedding_dim fixed to match the pre-trained matrix\n",
        "    embedding_dim = 50\n",
        "    lstm_units = trial.suggest_int('lstm_units', 50, 200)\n",
        "    dropout_rate = trial.suggest_float('dropout_rate', 0.2, 0.5)\n",
        "    learning_rate = trial.suggest_loguniform('learning_rate', 1e-5, 1e-2)\n",
        "\n",
        "    model = Sequential()\n",
        "    model.add(Embedding(input_dim=max_words, output_dim=embedding_dim, input_length=max_len, weights=[embedding_matrix], trainable=False))\n",
        "    model.add(LSTM(lstm_units, dropout=dropout_rate, recurrent_dropout=dropout_rate))\n",
        "    model.add(Dense(len(encoder.categories_[0]), activation='softmax'))\n",
        "\n",
        "    optimizer = Adam(learning_rate=learning_rate)\n",
        "    model.compile(optimizer=optimizer, loss='categorical_crossentropy', metrics=['accuracy'])\n",
        "    return model\n",
        "\n",
        "def objective(trial):\n",
        "    model = create_model(trial)\n",
        "    early_stopping = EarlyStopping(monitor='val_loss', patience=3)\n",
        "    history = model.fit(train_data, train_labels, validation_split=0.2, batch_size=32, epochs=20, callbacks=[early_stopping], verbose=0)\n",
        "    val_acc = max(history.history['val_accuracy'])\n",
        "    return val_acc\n",
        "\n",
        "study = optuna.create_study(direction='maximize')\n",
        "study.optimize(objective, n_trials=10)\n",
        "\n",
        "print(f\"Best trial: {study.best_trial.params}\")"
      ],
      "metadata": {
        "id": "8Vym9-bMI_yF",
        "colab": {
          "base_uri": "https://localhost:8080/"
        },
        "outputId": "6f1491ee-dd75-453b-abac-18d82b84fe7c"
      },
      "execution_count": null,
      "outputs": [
        {
          "output_type": "stream",
          "name": "stderr",
          "text": [
            "[I 2024-11-26 11:30:48,743] A new study created in memory with name: no-name-1d0128a1-bc54-4c0f-802d-85086b037921\n",
            "<ipython-input-22-8ec161419398>:7: FutureWarning: suggest_loguniform has been deprecated in v3.0.0. This feature will be removed in v6.0.0. See https://github.com/optuna/optuna/releases/tag/v3.0.0. Use suggest_float(..., log=True) instead.\n",
            "  learning_rate = trial.suggest_loguniform('learning_rate', 1e-5, 1e-2)\n",
            "/usr/local/lib/python3.10/dist-packages/keras/src/layers/core/embedding.py:90: UserWarning: Argument `input_length` is deprecated. Just remove it.\n",
            "  warnings.warn(\n",
            "[I 2024-11-26 11:31:57,717] Trial 0 finished with value: 0.7547169923782349 and parameters: {'lstm_units': 92, 'dropout_rate': 0.27412972672063507, 'learning_rate': 0.002394870351500044}. Best is trial 0 with value: 0.7547169923782349.\n",
            "[I 2024-11-26 11:33:03,865] Trial 1 finished with value: 0.5283018946647644 and parameters: {'lstm_units': 139, 'dropout_rate': 0.23562410842641496, 'learning_rate': 0.00019832219715413976}. Best is trial 0 with value: 0.7547169923782349.\n",
            "[I 2024-11-26 11:34:14,072] Trial 2 finished with value: 0.2641509473323822 and parameters: {'lstm_units': 72, 'dropout_rate': 0.2689425321498407, 'learning_rate': 6.254291572719485e-05}. Best is trial 0 with value: 0.7547169923782349.\n",
            "[I 2024-11-26 11:34:40,852] Trial 3 finished with value: 0.6037735939025879 and parameters: {'lstm_units': 161, 'dropout_rate': 0.33360709120354204, 'learning_rate': 0.004807737457872809}. Best is trial 0 with value: 0.7547169923782349.\n",
            "[I 2024-11-26 11:35:47,297] Trial 4 finished with value: 0.3962264060974121 and parameters: {'lstm_units': 61, 'dropout_rate': 0.41388792290287757, 'learning_rate': 0.00014859006291216223}. Best is trial 0 with value: 0.7547169923782349.\n",
            "[I 2024-11-26 11:36:58,773] Trial 5 finished with value: 0.6226415038108826 and parameters: {'lstm_units': 187, 'dropout_rate': 0.4958106714219178, 'learning_rate': 0.0007164441297787511}. Best is trial 0 with value: 0.7547169923782349.\n",
            "[I 2024-11-26 11:38:10,050] Trial 6 finished with value: 0.7169811129570007 and parameters: {'lstm_units': 142, 'dropout_rate': 0.42701149527351745, 'learning_rate': 0.0015323631429536117}. Best is trial 0 with value: 0.7547169923782349.\n",
            "[I 2024-11-26 11:39:18,865] Trial 7 finished with value: 0.7169811129570007 and parameters: {'lstm_units': 143, 'dropout_rate': 0.4408582144866507, 'learning_rate': 0.001750580050432197}. Best is trial 0 with value: 0.7547169923782349.\n",
            "[I 2024-11-26 11:40:23,099] Trial 8 finished with value: 0.4528301954269409 and parameters: {'lstm_units': 175, 'dropout_rate': 0.26460587785475864, 'learning_rate': 0.00011468360571210432}. Best is trial 0 with value: 0.7547169923782349.\n",
            "[I 2024-11-26 11:41:33,587] Trial 9 finished with value: 0.6226415038108826 and parameters: {'lstm_units': 120, 'dropout_rate': 0.4090461110949444, 'learning_rate': 0.00045408427134214016}. Best is trial 0 with value: 0.7547169923782349.\n"
          ]
        },
        {
          "output_type": "stream",
          "name": "stdout",
          "text": [
            "Best trial: {'lstm_units': 92, 'dropout_rate': 0.27412972672063507, 'learning_rate': 0.002394870351500044}\n"
          ]
        }
      ]
    },
    {
      "cell_type": "markdown",
      "source": [
        "After running the optimization Optuna prints the combination of hyperparameters that achieved the highest validation accuracy.\n",
        "\n",
        "The best trial contains teh folllwing :-\n",
        " * lstm_units: 92\n",
        " * dropout_rate: 0.27412972672063507\n",
        " * learning_rate: 0.002394870351500044"
      ],
      "metadata": {
        "id": "qBc8X4Yu4LUe"
      }
    },
    {
      "cell_type": "markdown",
      "source": [
        "**8. MODEL TRIANING WITH OPTIMAL HYPERPARAMETERS**\n",
        "\n",
        "Here the code does the following :-\n",
        " * Retrieves the best hyperparameter values for LSTM units, dropout rate, and learning rate after tuning.\n",
        " * Recreate the model with optimal hyperparameters where:-\n",
        "    - An embedding layer converts words into dense vectors.\n",
        "    - An LSTM layer captures sequential dependencies, with dropout regularization.\n",
        "    - The final dense layer outputs probabilities for each class\n",
        "\n",
        " * The model is trianed on the training data, using 20% for validation and the training history (loss and accuracy) is stored for visualization.\n",
        " * Plots loss and accuracy trends across epochs to monitor performance.\n",
        "\n"
      ],
      "metadata": {
        "id": "3aBu-A-U5bgN"
      }
    },
    {
      "source": [
        "# Use the best hyperparameters from Optuna\n",
        "best_lstm_units = study.best_trial.params['lstm_units']\n",
        "best_dropout_rate = study.best_trial.params['dropout_rate']\n",
        "best_learning_rate = study.best_trial.params['learning_rate']\n",
        "\n",
        "# Define batch size and epochs\n",
        "batch_size = 32\n",
        "epochs = 10\n",
        "\n",
        "# Check and convert train_labels to one-hot encoding\n",
        "if len(train_labels.shape) == 1:\n",
        "    num_classes = 5\n",
        "    train_labels = keras.utils.to_categorical(train_labels, num_classes=num_classes)\n",
        "\n",
        "# Recreate the model with optimal hyperparameters\n",
        "embedding_dim = 50\n",
        "\n",
        "model = Sequential()\n",
        "model.add(Embedding(input_dim=max_words, output_dim=embedding_dim, input_length=max_len)) # Use embedding_dim here\n",
        "model.add(LSTM(best_lstm_units, dropout=best_dropout_rate, recurrent_dropout=best_dropout_rate))\n",
        "model.add(Dense(len(encoder.categories_[0]), activation='softmax'))\n",
        "\n",
        "optimizer = Adam(learning_rate=best_learning_rate)\n",
        "model.compile(optimizer=optimizer, loss='categorical_crossentropy', metrics=['accuracy'])\n",
        "\n",
        "# Train the model with the best hyperparameters\n",
        "history = model.fit(train_data, train_labels, validation_split=0.2, batch_size=batch_size, epochs=epochs)\n",
        "\n",
        "plt.plot(history.history['loss'], label='train')\n",
        "plt.plot(history.history['val_loss'], label='test')\n",
        "plt.title('Loss Over Epochs')\n",
        "plt.xlabel('Epochs')\n",
        "plt.ylabel('Loss')\n",
        "plt.legend()\n",
        "plt.show()\n",
        "\n",
        "plt.plot(history.history['accuracy'], label='train')\n",
        "plt.plot(history.history['val_accuracy'], label='test')\n",
        "plt.title('Accuracy Over Epochs')\n",
        "plt.xlabel('Epochs')\n",
        "plt.ylabel('Accuracy')\n",
        "plt.legend()\n",
        "plt.show()\n"
      ],
      "cell_type": "code",
      "metadata": {
        "id": "zgNkdG-W6NAL",
        "colab": {
          "base_uri": "https://localhost:8080/",
          "height": 1000
        },
        "outputId": "ebf263a7-73c1-4136-e797-271e94212dd8"
      },
      "execution_count": null,
      "outputs": [
        {
          "output_type": "stream",
          "name": "stdout",
          "text": [
            "Epoch 1/10\n",
            "\u001b[1m7/7\u001b[0m \u001b[32m━━━━━━━━━━━━━━━━━━━━\u001b[0m\u001b[37m\u001b[0m \u001b[1m5s\u001b[0m 384ms/step - accuracy: 0.2322 - loss: 1.6029 - val_accuracy: 0.2075 - val_loss: 1.5855\n",
            "Epoch 2/10\n",
            "\u001b[1m7/7\u001b[0m \u001b[32m━━━━━━━━━━━━━━━━━━━━\u001b[0m\u001b[37m\u001b[0m \u001b[1m8s\u001b[0m 727ms/step - accuracy: 0.2626 - loss: 1.5364 - val_accuracy: 0.2642 - val_loss: 1.5483\n",
            "Epoch 3/10\n",
            "\u001b[1m7/7\u001b[0m \u001b[32m━━━━━━━━━━━━━━━━━━━━\u001b[0m\u001b[37m\u001b[0m \u001b[1m2s\u001b[0m 332ms/step - accuracy: 0.4558 - loss: 1.4096 - val_accuracy: 0.5660 - val_loss: 1.3813\n",
            "Epoch 4/10\n",
            "\u001b[1m7/7\u001b[0m \u001b[32m━━━━━━━━━━━━━━━━━━━━\u001b[0m\u001b[37m\u001b[0m \u001b[1m3s\u001b[0m 330ms/step - accuracy: 0.7503 - loss: 1.1902 - val_accuracy: 0.6981 - val_loss: 1.0549\n",
            "Epoch 5/10\n",
            "\u001b[1m7/7\u001b[0m \u001b[32m━━━━━━━━━━━━━━━━━━━━\u001b[0m\u001b[37m\u001b[0m \u001b[1m3s\u001b[0m 334ms/step - accuracy: 0.7367 - loss: 0.8646 - val_accuracy: 0.7547 - val_loss: 0.7432\n",
            "Epoch 6/10\n",
            "\u001b[1m7/7\u001b[0m \u001b[32m━━━━━━━━━━━━━━━━━━━━\u001b[0m\u001b[37m\u001b[0m \u001b[1m3s\u001b[0m 366ms/step - accuracy: 0.8605 - loss: 0.5565 - val_accuracy: 0.7925 - val_loss: 0.4976\n",
            "Epoch 7/10\n",
            "\u001b[1m7/7\u001b[0m \u001b[32m━━━━━━━━━━━━━━━━━━━━\u001b[0m\u001b[37m\u001b[0m \u001b[1m5s\u001b[0m 766ms/step - accuracy: 0.9151 - loss: 0.3307 - val_accuracy: 0.9245 - val_loss: 0.3581\n",
            "Epoch 8/10\n",
            "\u001b[1m7/7\u001b[0m \u001b[32m━━━━━━━━━━━━━━━━━━━━\u001b[0m\u001b[37m\u001b[0m \u001b[1m7s\u001b[0m 330ms/step - accuracy: 0.9597 - loss: 0.2134 - val_accuracy: 0.8868 - val_loss: 0.2870\n",
            "Epoch 9/10\n",
            "\u001b[1m7/7\u001b[0m \u001b[32m━━━━━━━━━━━━━━━━━━━━\u001b[0m\u001b[37m\u001b[0m \u001b[1m3s\u001b[0m 331ms/step - accuracy: 0.9592 - loss: 0.1344 - val_accuracy: 0.9623 - val_loss: 0.2309\n",
            "Epoch 10/10\n",
            "\u001b[1m7/7\u001b[0m \u001b[32m━━━━━━━━━━━━━━━━━━━━\u001b[0m\u001b[37m\u001b[0m \u001b[1m3s\u001b[0m 375ms/step - accuracy: 0.9958 - loss: 0.0875 - val_accuracy: 0.9623 - val_loss: 0.2200\n"
          ]
        },
        {
          "output_type": "display_data",
          "data": {
            "text/plain": [
              "<Figure size 640x480 with 1 Axes>"
            ],
            "image/png": "[encoded data removed]"
          },
          "metadata": {}
        },
        {
          "output_type": "display_data",
          "data": {
            "text/plain": [
              "<Figure size 640x480 with 1 Axes>"
            ],
            "image/png": "[encoded data removed]"
          },
          "metadata": {}
        }
      ]
    },
    {
      "cell_type": "markdown",
      "source": [
        "From the output we get the folllowing reults :-\n",
        "\n",
        "* The model starts with poor performance, as it is randomly initialized and still learning patterns.\n",
        "* Training and validation metrics improve significantly.\n",
        "* Loss decreases, and accuracy rises as the model learns better representations of the data this indicats the model is learning effectively.\n",
        "\n",
        "For the loss over epoch we have the following trends:-\n",
        " * Training loss decreases steadily across epochs, with a sharper decline in early epochs and flattening out later.\n",
        " * Validation loss follows a similar trend, though it may fluctuate slightly more due to the smaller validation set.\n",
        "\n",
        "For the accuracy over epoch we have the following trends:-\n",
        " * Training accuracy increases rapidly, starting from 23% and reaching 99.58% by Epoch 10.\n",
        " * Validation accuracy mirrors this trend, though it plateaus slightly earlier and stabilizes at a slightly lower value 96.23%.\n",
        "\n"
      ],
      "metadata": {
        "id": "HHUEHS_O6p4L"
      }
    },
    {
      "cell_type": "markdown",
      "source": [
        "**9. EVALUATE THE MODEL**\n"
      ],
      "metadata": {
        "id": "dHbSrdWY8sDC"
      }
    },
    {
      "cell_type": "code",
      "source": [
        "# evaluate the model\n",
        "loss, accuracy = model.evaluate(test_data, test_labels, verbose=0)\n",
        "print('Accuracy: %f' % (accuracy))\n"
      ],
      "metadata": {
        "id": "bJVr0e0V2oS6",
        "colab": {
          "base_uri": "https://localhost:8080/"
        },
        "outputId": "56c9a046-5bbd-4c21-e954-afe3d822d22f"
      },
      "execution_count": null,
      "outputs": [
        {
          "output_type": "stream",
          "name": "stdout",
          "text": [
            "Accuracy: 0.878788\n"
          ]
        }
      ]
    },
    {
      "cell_type": "markdown",
      "source": [
        "After tuning the hyperparameters the accuracy levels increases form 56% to 87%"
      ],
      "metadata": {
        "id": "1M9nUvOkBg4x"
      }
    },
    {
      "source": [
        "# Get predicted labels for test data\n",
        "y_pred_prob = model.predict(test_data)\n",
        "y_pred = np.argmax(y_pred_prob, axis=1)\n",
        "y_true = test_labels\n",
        "\n",
        "# Convert y_true to multiclass format\n",
        "if len(y_true.shape) > 1:\n",
        "    y_true = np.argmax(y_true, axis=1)\n",
        "\n",
        "# Classification report\n",
        "print(\"Classification Report:\")\n",
        "print(classification_report(y_true, y_pred, target_names=encoder.categories_[0]))"
      ],
      "cell_type": "code",
      "metadata": {
        "id": "0fooVyVZfj0q",
        "colab": {
          "base_uri": "https://localhost:8080/"
        },
        "outputId": "f8ba311f-9e57-4732-8c51-dade5e7f795f"
      },
      "execution_count": null,
      "outputs": [
        {
          "output_type": "stream",
          "name": "stdout",
          "text": [
            "\u001b[1m3/3\u001b[0m \u001b[32m━━━━━━━━━━━━━━━━━━━━\u001b[0m\u001b[37m\u001b[0m \u001b[1m1s\u001b[0m 163ms/step\n",
            "Classification Report:\n",
            "              precision    recall  f1-score   support\n",
            "\n",
            "    Academic       0.75      1.00      0.86        12\n",
            "    Biblical       1.00      0.76      0.87        17\n",
            "    Business       1.00      1.00      1.00        14\n",
            "   Political       0.75      1.00      0.86        12\n",
            "      Sports       1.00      0.64      0.78        11\n",
            "\n",
            "    accuracy                           0.88        66\n",
            "   macro avg       0.90      0.88      0.87        66\n",
            "weighted avg       0.91      0.88      0.88        66\n",
            "\n"
          ]
        }
      ]
    },
    {
      "cell_type": "markdown",
      "source": [
        "The classification report generated  provides the following information :-    \n",
        "* Academic has a high recall (1.00), indicating all true \"Academic\" instances were predicted correctly.Precision is slightly lower (0.75), suggesting some incorrect predictions as \"Academic.\"\n",
        "* Biblical has a High precision (1.00), meaning all instances predicted as \"Biblical\" are correct.Recall is lower (0.76), indicating some true \"Biblical\" instances were missed.\n",
        "* Business has Perfect precision, recall, and F1-score (1.00), meaning no misclassifications for this category.\n",
        "* Political similar to \"Academic,\" recall is perfect (1.00), but precision is slightly lower (0.75).\n",
        "* Sports has a high precision (1.00), but lower recall (0.64), indicating many true \"Sports\" instances were missed.\n",
        "\n",
        "The overall accuracy is 0.88 which is 88 % which is a better accuracy after fine tuning.\n",
        "\n",
        "The macro average F1-score is 0.87, reflecting a balanced overall performance.\n",
        "\n",
        "The weighted average F1-score is 0.88, closely matching the accuracy."
      ],
      "metadata": {
        "id": "ekCATAatAZ3U"
      }
    },
    {
      "cell_type": "markdown",
      "source": [
        "**Save the model**\n",
        "\n",
        "The model is saved and later used for predictions"
      ],
      "metadata": {
        "id": "iB7_9OU39T5f"
      }
    },
    {
      "cell_type": "code",
      "source": [
        "# Save the model\n",
        "model.save('models.keras')\n"
      ],
      "metadata": {
        "id": "g68fEJAT2p1x"
      },
      "execution_count": null,
      "outputs": []
    },
    {
      "cell_type": "markdown",
      "source": [
        "**10. PREPROCESSING FOR INFERENCE**\n",
        "\n",
        "The code below does the following :-\n",
        "* Convert text to token sequences using a trained tokenizer.\n",
        "* Pads the sequences to a fixed length (max_len) for consistent input shape."
      ],
      "metadata": {
        "id": "g1GSUZmf9IE-"
      }
    },
    {
      "cell_type": "code",
      "source": [
        "# Pre-process for inference\n",
        "def pre_process(tokenizer, max_len, input_text):\n",
        "    input_sequence = tokenizer.texts_to_sequences([input_text])\n",
        "    input_data = pad_sequences(input_sequence, maxlen=max_len)\n",
        "    return input_data\n"
      ],
      "metadata": {
        "id": "EWx5ZxhE2r5J"
      },
      "execution_count": null,
      "outputs": []
    },
    {
      "cell_type": "markdown",
      "source": [
        "**11. PREDICT THE MODEL**\n",
        "\n",
        "Here the model :-\n",
        "* Predicts probabilities for all classes and formats them as percentages.\n",
        "* Identifies the class with the highest predicted probability."
      ],
      "metadata": {
        "id": "2UDj5ZO59u-5"
      }
    },
    {
      "cell_type": "code",
      "source": [
        "def classify_text(model, tokenizer, encoder, max_len, input_text):\n",
        "    input_data = pre_process(tokenizer, max_len, input_text)\n",
        "    pred = model.predict(input_data)\n",
        "    result_dict = {}\n",
        "\n",
        "    for i, LABEL in enumerate(encoder.categories_[0]):\n",
        "        result_dict[LABEL] = str(round(pred[0][i] * 100, 2))+'%'\n",
        "\n",
        "    highest_prob = max(result_dict, key=result_dict.get)\n",
        "\n",
        "    return (result_dict, highest_prob)\n"
      ],
      "metadata": {
        "id": "X_LJgMVD2xZH"
      },
      "execution_count": null,
      "outputs": []
    },
    {
      "cell_type": "markdown",
      "source": [
        "**Prediction on an existing text from dataset**\n",
        "\n",
        "The three continuous code blocks perform two main tasks: :-\n",
        "* Extracting a sentence from the dataset to check the model's prediction accuracy.\n",
        "* Predicting the category of a new input sentence."
      ],
      "metadata": {
        "id": "tg3qpPYW-KrU"
      }
    },
    {
      "cell_type": "code",
      "source": [
        "# Pick a random news headline from dataset\n",
        "news_ = data.sample(1)\n",
        "\n",
        "text_comment = news_['Text'].values[0]\n",
        "text_category = news_['LABEL'].values[0]\n",
        "\n",
        "result_dict, classified_label = classify_text(model, tokenizer, encoder, max_len, text_comment)\n",
        "\n",
        "print(f'News headline: {text_comment}')\n",
        "print(f'Actual category: {text_category}')\n",
        "print(f'Predicted category: {classified_label}')\n",
        "print(f'Confidence scores: {result_dict}')"
      ],
      "metadata": {
        "id": "NIXHIGAs5khQ",
        "colab": {
          "base_uri": "https://localhost:8080/"
        },
        "outputId": "02f9c4ea-969f-48e8-fc82-03e8db627f30"
      },
      "execution_count": null,
      "outputs": [
        {
          "output_type": "stream",
          "name": "stdout",
          "text": [
            "\u001b[1m1/1\u001b[0m \u001b[32m━━━━━━━━━━━━━━━━━━━━\u001b[0m\u001b[37m\u001b[0m \u001b[1m0s\u001b[0m 179ms/step\n",
            "News headline: ksoma n kwlka wendo msy ma tonyi kvathka\n",
            "Actual category: Academic\n",
            "Predicted category: Academic\n",
            "Confidence scores: {'Academic': '98.99%', 'Biblical': '0.37%', 'Business': '0.04%', 'Political': '0.6%', 'Sports': '0.01%'}\n"
          ]
        }
      ]
    },
    {
      "cell_type": "code",
      "source": [
        "# Pick another random text\n",
        "news_ = data.sample(1)\n",
        "\n",
        "text_comment = news_['Text'].values[0]\n",
        "text_category = news_['LABEL'].values[0]\n",
        "\n",
        "result_dict, classified_label = classify_text(model, tokenizer, encoder, max_len, text_comment)\n",
        "\n",
        "print(f'News headline: {text_comment}')\n",
        "print(f'Actual category: {text_category}')\n",
        "print(f'Predicted category: {classified_label}')\n",
        "print(f'Confidence scores: {result_dict}')"
      ],
      "metadata": {
        "id": "_syKXOGKgav0",
        "colab": {
          "base_uri": "https://localhost:8080/"
        },
        "outputId": "7133ed0c-095e-437a-803f-bf121391bd83"
      },
      "execution_count": null,
      "outputs": [
        {
          "output_type": "stream",
          "name": "stdout",
          "text": [
            "\u001b[1m1/1\u001b[0m \u001b[32m━━━━━━━━━━━━━━━━━━━━\u001b[0m\u001b[37m\u001b[0m \u001b[1m0s\u001b[0m 87ms/step\n",
            "News headline: msumb n mwanya ktetheesya nguliko kwsmbanya nth mtetheo mla maendeeo\n",
            "Actual category: Political\n",
            "Predicted category: Political\n",
            "Confidence scores: {'Academic': '0.13%', 'Biblical': '0.0%', 'Business': '0.01%', 'Political': '99.86%', 'Sports': '0.0%'}\n"
          ]
        }
      ]
    },
    {
      "cell_type": "code",
      "source": [
        "# Pick a random news headline from dataset\n",
        "news_ = data.sample(1)\n",
        "\n",
        "text_comment = news_['Text'].values[0]\n",
        "text_category = news_['LABEL'].values[0]\n",
        "\n",
        "result_dict, classified_label = classify_text(model, tokenizer, encoder, max_len, text_comment)\n",
        "\n",
        "print(f'News headline: {text_comment}')\n",
        "print(f'Actual category: {text_category}')\n",
        "print(f'Predicted category: {classified_label}')\n",
        "print(f'Confidence scores: {result_dict}')"
      ],
      "metadata": {
        "id": "b86FDG_Vghfc",
        "colab": {
          "base_uri": "https://localhost:8080/"
        },
        "outputId": "0a13dfc6-0755-4aa9-f920-255a97b8c827"
      },
      "execution_count": null,
      "outputs": [
        {
          "output_type": "stream",
          "name": "stdout",
          "text": [
            "\u001b[1m1/1\u001b[0m \u001b[32m━━━━━━━━━━━━━━━━━━━━\u001b[0m\u001b[37m\u001b[0m \u001b[1m0s\u001b[0m 90ms/step\n",
            "News headline: vinya msy tetheesya kwtma kyma ksunga msy ma maendeeo\n",
            "Actual category: Business\n",
            "Predicted category: Business\n",
            "Confidence scores: {'Academic': '0.31%', 'Biblical': '0.04%', 'Business': '99.59%', 'Political': '0.05%', 'Sports': '0.01%'}\n"
          ]
        }
      ]
    },
    {
      "cell_type": "markdown",
      "source": [
        "**Prediction on New Sentences**\n",
        "\n",
        "The code below does the following\n",
        " * A new, unseen sentence is input into the function.\n",
        " * The sentence is preprocessed the same way as was done earlier during training\n",
        " * The processed sentence is passed through the trained model, which outputs probabilities for all possible categories.\n",
        " * The category with the highest probability is identified as the predicted label.\n",
        " * The predicted label is mapped back to its category name (using the encoder) and returned as the result."
      ],
      "metadata": {
        "id": "Q4WglT2h-JyT"
      }
    },
    {
      "cell_type": "code",
      "source": [
        "# Function to predict the category of a new sentence\n",
        "def predict_new_sentence(sentence, tokenizer, model, max_len=200):\n",
        "    # Preprocess the sentence\n",
        "    preprocessed_text = preprocess_kamba_text(sentence, swahili_stopwords)\n",
        "\n",
        "    # Tokenize the preprocessed text\n",
        "    sequence = tokenizer.texts_to_sequences([preprocessed_text])\n",
        "\n",
        "    # Pad the sequence to ensure it has the correct shape\n",
        "    padded_sequence = pad_sequences(sequence, maxlen=max_len)\n",
        "\n",
        "    # Make the prediction\n",
        "    prediction = model.predict(padded_sequence)\n",
        "\n",
        "    # Get the label with the highest probability\n",
        "    predicted_label = np.argmax(prediction, axis=1)[0]\n",
        "\n",
        "    # Get the category name from the label (inverse transformation of one-hot encoding)\n",
        "    category = encoder.categories_[0][predicted_label]\n",
        "\n",
        "    return category\n",
        "\n",
        "# Test the function with a new sentence\n",
        "new_sentence = \"Mundu wa wikala museo aanake wa kwikya utumi wake muno wa usukuani, no asyoka atembe na mwioyo wa kwiitika uw'o kwa andu ake.\"\n",
        "predicted_category = predict_new_sentence(new_sentence, tokenizer, model)\n",
        "print(f\"Predicted category for the new sentence: {predicted_category}\")\n"
      ],
      "metadata": {
        "colab": {
          "base_uri": "https://localhost:8080/"
        },
        "id": "QKkzc9D6UVdt",
        "outputId": "ec060296-6049-40e2-ce57-88dc4ecf390b"
      },
      "execution_count": null,
      "outputs": [
        {
          "output_type": "stream",
          "name": "stdout",
          "text": [
            "\u001b[1m1/1\u001b[0m \u001b[32m━━━━━━━━━━━━━━━━━━━━\u001b[0m\u001b[37m\u001b[0m \u001b[1m0s\u001b[0m 247ms/step\n",
            "Predicted category for the new sentence: Political\n"
          ]
        }
      ]
    }
  ]
}